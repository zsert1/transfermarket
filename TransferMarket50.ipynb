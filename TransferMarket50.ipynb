{
 "cells": [
  {
   "cell_type": "code",
   "outputs": [],
   "source": [
    "import  requests\n",
    "from bs4 import BeautifulSoup\n",
    "import  pandas as pd\n",
    "import time\n",
    "headers={\"User-Agent\":\"Mozilla/5.0 (Macintosh; Intel Mac OS X 10_15_7) AppleWebKit/537.36 (KHTML, like Gecko) Chrome/122.0.0.0 Safari/537.36\"}\n",
    "number=[]\n",
    "name=[]\n",
    "position=[]\n",
    "age=[]\n",
    "nation=[]\n",
    "team=[]\n",
    "value=[]\n",
    "for i in range(1,3):\n",
    "    url=f\"https://www.transfermarkt.com/spieler-statistik/wertvollstespieler/marktwertetop?page={i}\"\n",
    "    r=requests.get(url,headers=headers)\n",
    "    r.status_code\n",
    "    soup=BeautifulSoup(r.content,'html.parser')\n",
    "    play_info=soup.find_all('tr',class_=['odd','even'])\n",
    "\n",
    "# 7개 정보를 담을 빈 리스트 만들기 \n",
    "\n",
    "    for info in play_info:\n",
    "       player=info.find_all('td')\n",
    "    # print(player)\n",
    "    # print(player[0])\n",
    "       number.append(player[0].text)\n",
    "       name.append(player[3].text)\n",
    "       position.append(player[4].text)\n",
    "       age.append(player[5].text)\n",
    "       nation.append(player[6].img['alt'])\n",
    "       team.append(player[7].img['alt'])\n",
    "       value.append(player[8].text.strip())\n",
    "    # 1초 쉬어 주고 다음 페이지 크롤링\n",
    "    time.sleep(1)\n",
    "\n",
    "\n",
    "# pd.DataFrame()으로 지정하기\n",
    "df=pd.DataFrame({\"number\":number,\"name\":name,\"position\":position,\"age\":age,\"nation\":nation,\"team\":team,\"value\":value})\n",
    "# csv파일로 파싱하기\n",
    "df.to_csv(\"transfermarket50.csv\",index=False)\n",
    "\n"
   ],
   "metadata": {
    "collapsed": false,
    "ExecuteTime": {
     "end_time": "2024-03-09T16:51:29.783941Z",
     "start_time": "2024-03-09T16:51:19.097615Z"
    }
   },
   "id": "fdd6e2d092323689",
   "execution_count": 8
  },
  {
   "cell_type": "code",
   "outputs": [],
   "source": [],
   "metadata": {
    "collapsed": false
   },
   "id": "6faac6174e2b07ed"
  }
 ],
 "metadata": {
  "kernelspec": {
   "display_name": "Python 3",
   "language": "python",
   "name": "python3"
  },
  "language_info": {
   "codemirror_mode": {
    "name": "ipython",
    "version": 2
   },
   "file_extension": ".py",
   "mimetype": "text/x-python",
   "name": "python",
   "nbconvert_exporter": "python",
   "pygments_lexer": "ipython2",
   "version": "2.7.6"
  }
 },
 "nbformat": 4,
 "nbformat_minor": 5
}
