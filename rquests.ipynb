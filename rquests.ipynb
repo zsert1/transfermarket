{
 "cells": [
  {
   "cell_type": "code",
   "outputs": [],
   "source": [
    "import requests"
   ],
   "metadata": {
    "collapsed": false,
    "ExecuteTime": {
     "end_time": "2024-03-09T16:01:28.214079Z",
     "start_time": "2024-03-09T16:01:28.196031Z"
    }
   },
   "id": "1647a03ddd52d477",
   "execution_count": 20
  },
  {
   "cell_type": "code",
   "outputs": [
    {
     "data": {
      "text/plain": "200"
     },
     "execution_count": 21,
     "metadata": {},
     "output_type": "execute_result"
    }
   ],
   "source": [
    "headers={\"User-Agent\":\"Mozilla/5.0 (Macintosh; Intel Mac OS X 10_15_7) AppleWebKit/537.36 (KHTML, like Gecko) Chrome/122.0.0.0 Safari/537.36\"}\n",
    "url=\"https://www.transfermarkt.com/\"\n",
    "r=requests.get(url,headers=headers)\n",
    "r.status_code"
   ],
   "metadata": {
    "collapsed": false,
    "ExecuteTime": {
     "end_time": "2024-03-09T16:01:29.482235Z",
     "start_time": "2024-03-09T16:01:28.200290Z"
    }
   },
   "id": "565b56688171bf74",
   "execution_count": 21
  },
  {
   "cell_type": "markdown",
   "source": [
    "### BeatifulSoup Quick Start 실습"
   ],
   "metadata": {
    "collapsed": false
   },
   "id": "5a73f3faa0034816"
  },
  {
   "cell_type": "code",
   "outputs": [],
   "source": [
    "html_doc = \"\"\"<html><head><title>The Dormouse's story</title></head>\n",
    "<body>\n",
    "<p class=\"title\"><b>The Dormouse's story</b></p>\n",
    "\n",
    "<p class=\"story\">Once upon a time there were three little sisters; and their names were\n",
    "<a href=\"http://example.com/elsie\" class=\"sister\" id=\"link1\">Elsie</a>,\n",
    "<a href=\"http://example.com/lacie\" class=\"sister\" id=\"link2\">Lacie</a> and\n",
    "<a href=\"http://example.com/tillie\" class=\"sister\" id=\"link3\">Tillie</a>;\n",
    "and they lived at the bottom of a well.</p>\n",
    "\n",
    "<p class=\"story\">...</p>\"\"\""
   ],
   "metadata": {
    "collapsed": false,
    "ExecuteTime": {
     "end_time": "2024-03-09T16:01:29.486579Z",
     "start_time": "2024-03-09T16:01:29.480663Z"
    }
   },
   "id": "be47b3f6da024685",
   "execution_count": 22
  },
  {
   "cell_type": "code",
   "outputs": [],
   "source": [
    "from  bs4 import BeautifulSoup\n",
    "soup=BeautifulSoup(html_doc,'html.parser');"
   ],
   "metadata": {
    "collapsed": false,
    "ExecuteTime": {
     "end_time": "2024-03-09T16:01:29.487367Z",
     "start_time": "2024-03-09T16:01:29.485053Z"
    }
   },
   "id": "5cdf434891cc5ea8",
   "execution_count": 23
  },
  {
   "cell_type": "code",
   "outputs": [
    {
     "data": {
      "text/plain": "<p class=\"title\"><b>The Dormouse's story</b></p>"
     },
     "execution_count": 24,
     "metadata": {},
     "output_type": "execute_result"
    }
   ],
   "source": [
    "# p 태그 정보 가져오기(처음 나오는것)\n",
    "soup.p"
   ],
   "metadata": {
    "collapsed": false,
    "ExecuteTime": {
     "end_time": "2024-03-09T16:01:29.491423Z",
     "start_time": "2024-03-09T16:01:29.488732Z"
    }
   },
   "id": "9c62879e1082c703",
   "execution_count": 24
  },
  {
   "cell_type": "code",
   "outputs": [
    {
     "data": {
      "text/plain": "<p class=\"title\"><b>The Dormouse's story</b></p>"
     },
     "execution_count": 25,
     "metadata": {},
     "output_type": "execute_result"
    }
   ],
   "source": [
    "soup.find('p')"
   ],
   "metadata": {
    "collapsed": false,
    "ExecuteTime": {
     "end_time": "2024-03-09T16:01:29.495336Z",
     "start_time": "2024-03-09T16:01:29.492288Z"
    }
   },
   "id": "fdd667cc45403325",
   "execution_count": 25
  },
  {
   "cell_type": "code",
   "outputs": [
    {
     "data": {
      "text/plain": "<a class=\"sister\" href=\"http://example.com/elsie\" id=\"link1\">Elsie</a>"
     },
     "execution_count": 26,
     "metadata": {},
     "output_type": "execute_result"
    }
   ],
   "source": [
    "soup.a"
   ],
   "metadata": {
    "collapsed": false,
    "ExecuteTime": {
     "end_time": "2024-03-09T16:01:29.499169Z",
     "start_time": "2024-03-09T16:01:29.495304Z"
    }
   },
   "id": "e7671d7e0d882938",
   "execution_count": 26
  },
  {
   "cell_type": "code",
   "outputs": [
    {
     "data": {
      "text/plain": "'http://example.com/elsie'"
     },
     "execution_count": 27,
     "metadata": {},
     "output_type": "execute_result"
    }
   ],
   "source": [
    "soup.find('a')['href']"
   ],
   "metadata": {
    "collapsed": false,
    "ExecuteTime": {
     "end_time": "2024-03-09T16:01:29.533160Z",
     "start_time": "2024-03-09T16:01:29.498663Z"
    }
   },
   "id": "8b08e7a6275a56ad",
   "execution_count": 27
  },
  {
   "cell_type": "code",
   "outputs": [
    {
     "data": {
      "text/plain": "'Elsie'"
     },
     "execution_count": 28,
     "metadata": {},
     "output_type": "execute_result"
    }
   ],
   "source": [
    "soup.find('a').text\n",
    "soup.find('a').get_text()"
   ],
   "metadata": {
    "collapsed": false,
    "ExecuteTime": {
     "end_time": "2024-03-09T16:01:29.533493Z",
     "start_time": "2024-03-09T16:01:29.502043Z"
    }
   },
   "id": "d1dd410836879209",
   "execution_count": 28
  },
  {
   "cell_type": "code",
   "outputs": [
    {
     "data": {
      "text/plain": "[<a class=\"sister\" href=\"http://example.com/elsie\" id=\"link1\">Elsie</a>,\n <a class=\"sister\" href=\"http://example.com/lacie\" id=\"link2\">Lacie</a>,\n <a class=\"sister\" href=\"http://example.com/tillie\" id=\"link3\">Tillie</a>]"
     },
     "execution_count": 29,
     "metadata": {},
     "output_type": "execute_result"
    }
   ],
   "source": [
    "soup.find_all('a')"
   ],
   "metadata": {
    "collapsed": false,
    "ExecuteTime": {
     "end_time": "2024-03-09T16:01:29.533757Z",
     "start_time": "2024-03-09T16:01:29.505206Z"
    }
   },
   "id": "59f7c6c7a75c2a89",
   "execution_count": 29
  },
  {
   "cell_type": "code",
   "outputs": [
    {
     "data": {
      "text/plain": "<a class=\"sister\" href=\"http://example.com/lacie\" id=\"link2\">Lacie</a>"
     },
     "execution_count": 30,
     "metadata": {},
     "output_type": "execute_result"
    }
   ],
   "source": [
    "# 특정 번호의 태그 가져오가\n",
    "soup.find_all('a')[1]"
   ],
   "metadata": {
    "collapsed": false,
    "ExecuteTime": {
     "end_time": "2024-03-09T16:01:29.534334Z",
     "start_time": "2024-03-09T16:01:29.509167Z"
    }
   },
   "id": "62d3dff86fe11315",
   "execution_count": 30
  },
  {
   "cell_type": "code",
   "outputs": [
    {
     "name": "stdout",
     "output_type": "stream",
     "text": [
      "http://example.com/elsie\n",
      "http://example.com/lacie\n",
      "http://example.com/tillie\n"
     ]
    }
   ],
   "source": [
    "a_list=soup.find_all('a')\n",
    "for a in a_list:\n",
    "    print(a['href'])"
   ],
   "metadata": {
    "collapsed": false,
    "ExecuteTime": {
     "end_time": "2024-03-09T16:01:29.534646Z",
     "start_time": "2024-03-09T16:01:29.511559Z"
    }
   },
   "id": "3ea3a5bab52bd0b6",
   "execution_count": 31
  },
  {
   "cell_type": "code",
   "outputs": [
    {
     "data": {
      "text/plain": "[<a class=\"sister\" href=\"http://example.com/elsie\" id=\"link1\">Elsie</a>,\n <a class=\"sister\" href=\"http://example.com/lacie\" id=\"link2\">Lacie</a>,\n <a class=\"sister\" href=\"http://example.com/tillie\" id=\"link3\">Tillie</a>]"
     },
     "execution_count": 32,
     "metadata": {},
     "output_type": "execute_result"
    }
   ],
   "source": [
    "soup.find_all('a',class_='sister')"
   ],
   "metadata": {
    "collapsed": false,
    "ExecuteTime": {
     "end_time": "2024-03-09T16:01:29.534912Z",
     "start_time": "2024-03-09T16:01:29.514225Z"
    }
   },
   "id": "df1118f2b6becf1f",
   "execution_count": 32
  },
  {
   "cell_type": "code",
   "outputs": [
    {
     "data": {
      "text/plain": "[<a class=\"sister\" href=\"http://example.com/tillie\" id=\"link3\">Tillie</a>]"
     },
     "execution_count": 33,
     "metadata": {},
     "output_type": "execute_result"
    }
   ],
   "source": [
    "soup.find_all('a',id=\"link3\")"
   ],
   "metadata": {
    "collapsed": false,
    "ExecuteTime": {
     "end_time": "2024-03-09T16:01:29.535304Z",
     "start_time": "2024-03-09T16:01:29.517205Z"
    }
   },
   "id": "c2a356802d1d2571",
   "execution_count": 33
  },
  {
   "cell_type": "code",
   "outputs": [],
   "source": [],
   "metadata": {
    "collapsed": false,
    "ExecuteTime": {
     "end_time": "2024-03-09T16:01:29.535511Z",
     "start_time": "2024-03-09T16:01:29.519801Z"
    }
   },
   "id": "225ed05b684bbc3b",
   "execution_count": 33
  }
 ],
 "metadata": {
  "kernelspec": {
   "name": "python3",
   "language": "python",
   "display_name": "Python 3 (ipykernel)"
  }
 },
 "nbformat": 4,
 "nbformat_minor": 5
}
