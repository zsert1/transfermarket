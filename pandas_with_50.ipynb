{
 "cells": [
  {
   "cell_type": "code",
   "execution_count": 1,
   "id": "initial_id",
   "metadata": {
    "collapsed": true,
    "ExecuteTime": {
     "end_time": "2024-03-11T14:25:48.598746Z",
     "start_time": "2024-03-11T14:25:48.201579Z"
    }
   },
   "outputs": [],
   "source": [
    "import  requests\n",
    "from bs4 import BeautifulSoup\n",
    "import  pandas as pd"
   ]
  },
  {
   "cell_type": "code",
   "outputs": [
    {
     "data": {
      "text/plain": "    이름  나이     소속\n0  손흥민  30     한국\n1  호날두  35   포르투갈\n2   메시  37  아르헨티나",
      "text/html": "<div>\n<style scoped>\n    .dataframe tbody tr th:only-of-type {\n        vertical-align: middle;\n    }\n\n    .dataframe tbody tr th {\n        vertical-align: top;\n    }\n\n    .dataframe thead th {\n        text-align: right;\n    }\n</style>\n<table border=\"1\" class=\"dataframe\">\n  <thead>\n    <tr style=\"text-align: right;\">\n      <th></th>\n      <th>이름</th>\n      <th>나이</th>\n      <th>소속</th>\n    </tr>\n  </thead>\n  <tbody>\n    <tr>\n      <th>0</th>\n      <td>손흥민</td>\n      <td>30</td>\n      <td>한국</td>\n    </tr>\n    <tr>\n      <th>1</th>\n      <td>호날두</td>\n      <td>35</td>\n      <td>포르투갈</td>\n    </tr>\n    <tr>\n      <th>2</th>\n      <td>메시</td>\n      <td>37</td>\n      <td>아르헨티나</td>\n    </tr>\n  </tbody>\n</table>\n</div>"
     },
     "execution_count": 2,
     "metadata": {},
     "output_type": "execute_result"
    }
   ],
   "source": [
    "df1=pd.DataFrame({\"이름\":[\"손흥민\",\"호날두\",\"메시\"],\"나이\":[30,35,37],\"소속\":[\"한국\",\"포르투갈\",\"아르헨티나\"]})\n",
    "df1"
   ],
   "metadata": {
    "collapsed": false,
    "ExecuteTime": {
     "end_time": "2024-03-11T14:27:52.349970Z",
     "start_time": "2024-03-11T14:27:52.307614Z"
    }
   },
   "id": "524d077939c1cd87",
   "execution_count": 2
  },
  {
   "cell_type": "code",
   "outputs": [
    {
     "data": {
      "text/plain": "    이름  나이     소속\n1  손흥민  30     한국\n2  호날두  35   포르투갈\n3   메시  37  아르헨티나",
      "text/html": "<div>\n<style scoped>\n    .dataframe tbody tr th:only-of-type {\n        vertical-align: middle;\n    }\n\n    .dataframe tbody tr th {\n        vertical-align: top;\n    }\n\n    .dataframe thead th {\n        text-align: right;\n    }\n</style>\n<table border=\"1\" class=\"dataframe\">\n  <thead>\n    <tr style=\"text-align: right;\">\n      <th></th>\n      <th>이름</th>\n      <th>나이</th>\n      <th>소속</th>\n    </tr>\n  </thead>\n  <tbody>\n    <tr>\n      <th>1</th>\n      <td>손흥민</td>\n      <td>30</td>\n      <td>한국</td>\n    </tr>\n    <tr>\n      <th>2</th>\n      <td>호날두</td>\n      <td>35</td>\n      <td>포르투갈</td>\n    </tr>\n    <tr>\n      <th>3</th>\n      <td>메시</td>\n      <td>37</td>\n      <td>아르헨티나</td>\n    </tr>\n  </tbody>\n</table>\n</div>"
     },
     "execution_count": 3,
     "metadata": {},
     "output_type": "execute_result"
    }
   ],
   "source": [
    "df1=pd.DataFrame({\"이름\":[\"손흥민\",\"호날두\",\"메시\"],\"나이\":[30,35,37],\"소속\":[\"한국\",\"포르투갈\",\"아르헨티나\"]},index=[1,2,3])\n",
    "df1"
   ],
   "metadata": {
    "collapsed": false,
    "ExecuteTime": {
     "end_time": "2024-03-11T14:29:44.173167Z",
     "start_time": "2024-03-11T14:29:44.167997Z"
    }
   },
   "id": "f17fefa89a3c0806",
   "execution_count": 3
  },
  {
   "cell_type": "code",
   "outputs": [
    {
     "data": {
      "text/plain": "    이름    나이     소속\n0  손흥민   호날두     메시\n1   30    35     37\n2   한국  포르투갈  아르헨티나",
      "text/html": "<div>\n<style scoped>\n    .dataframe tbody tr th:only-of-type {\n        vertical-align: middle;\n    }\n\n    .dataframe tbody tr th {\n        vertical-align: top;\n    }\n\n    .dataframe thead th {\n        text-align: right;\n    }\n</style>\n<table border=\"1\" class=\"dataframe\">\n  <thead>\n    <tr style=\"text-align: right;\">\n      <th></th>\n      <th>이름</th>\n      <th>나이</th>\n      <th>소속</th>\n    </tr>\n  </thead>\n  <tbody>\n    <tr>\n      <th>0</th>\n      <td>손흥민</td>\n      <td>호날두</td>\n      <td>메시</td>\n    </tr>\n    <tr>\n      <th>1</th>\n      <td>30</td>\n      <td>35</td>\n      <td>37</td>\n    </tr>\n    <tr>\n      <th>2</th>\n      <td>한국</td>\n      <td>포르투갈</td>\n      <td>아르헨티나</td>\n    </tr>\n  </tbody>\n</table>\n</div>"
     },
     "execution_count": 4,
     "metadata": {},
     "output_type": "execute_result"
    }
   ],
   "source": [
    "play_list=[[\"손흥민\",\"호날두\",\"메시\"],[30,35,37],[\"한국\",\"포르투갈\",\"아르헨티나\"]]\n",
    "df2=pd.DataFrame(play_list,columns=['이름','나이','소속'])\n",
    "df2"
   ],
   "metadata": {
    "collapsed": false,
    "ExecuteTime": {
     "end_time": "2024-03-11T14:30:56.664903Z",
     "start_time": "2024-03-11T14:30:56.658872Z"
    }
   },
   "id": "81908b9541f03749",
   "execution_count": 4
  },
  {
   "cell_type": "code",
   "outputs": [],
   "source": [
    "df=pd.read_csv('./data/transfermarket50.csv')\n"
   ],
   "metadata": {
    "collapsed": false,
    "ExecuteTime": {
     "end_time": "2024-03-11T14:35:26.093660Z",
     "start_time": "2024-03-11T14:35:26.086143Z"
    }
   },
   "id": "df2d9e657469ffd1",
   "execution_count": 7
  },
  {
   "cell_type": "code",
   "outputs": [
    {
     "data": {
      "text/plain": "(50, 7)"
     },
     "execution_count": 8,
     "metadata": {},
     "output_type": "execute_result"
    }
   ],
   "source": [
    "# 데이터의 {행,렬}\n",
    "df.shape"
   ],
   "metadata": {
    "collapsed": false,
    "ExecuteTime": {
     "end_time": "2024-03-11T14:36:09.570635Z",
     "start_time": "2024-03-11T14:36:09.564210Z"
    }
   },
   "id": "e9e492bcaabfe1ee",
   "execution_count": 8
  },
  {
   "cell_type": "code",
   "outputs": [],
   "source": [
    "(rows,colums)=df.shape"
   ],
   "metadata": {
    "collapsed": false,
    "ExecuteTime": {
     "end_time": "2024-03-11T14:36:38.895069Z",
     "start_time": "2024-03-11T14:36:38.890167Z"
    }
   },
   "id": "d83c0ffcf7b916ef",
   "execution_count": 9
  },
  {
   "cell_type": "code",
   "outputs": [
    {
     "data": {
      "text/plain": "50"
     },
     "execution_count": 10,
     "metadata": {},
     "output_type": "execute_result"
    }
   ],
   "source": [
    "rows"
   ],
   "metadata": {
    "collapsed": false,
    "ExecuteTime": {
     "end_time": "2024-03-11T14:36:44.169011Z",
     "start_time": "2024-03-11T14:36:44.164728Z"
    }
   },
   "id": "2059d4d64ca96f70",
   "execution_count": 10
  },
  {
   "cell_type": "code",
   "outputs": [
    {
     "data": {
      "text/plain": "7"
     },
     "execution_count": 11,
     "metadata": {},
     "output_type": "execute_result"
    }
   ],
   "source": [
    "colums"
   ],
   "metadata": {
    "collapsed": false,
    "ExecuteTime": {
     "end_time": "2024-03-11T14:36:52.551211Z",
     "start_time": "2024-03-11T14:36:52.546515Z"
    }
   },
   "id": "693dea42cba5d7ce",
   "execution_count": 11
  },
  {
   "cell_type": "code",
   "outputs": [
    {
     "name": "stdout",
     "output_type": "stream",
     "text": [
      "<class 'pandas.core.frame.DataFrame'>\n",
      "RangeIndex: 50 entries, 0 to 49\n",
      "Data columns (total 7 columns):\n",
      " #   Column    Non-Null Count  Dtype \n",
      "---  ------    --------------  ----- \n",
      " 0   number    50 non-null     int64 \n",
      " 1   name      50 non-null     object\n",
      " 2   position  50 non-null     object\n",
      " 3   age       50 non-null     int64 \n",
      " 4   nation    50 non-null     object\n",
      " 5   team      50 non-null     object\n",
      " 6   value     50 non-null     object\n",
      "dtypes: int64(2), object(5)\n",
      "memory usage: 2.9+ KB\n"
     ]
    }
   ],
   "source": [
    "df.info()"
   ],
   "metadata": {
    "collapsed": false,
    "ExecuteTime": {
     "end_time": "2024-03-11T14:36:59.212481Z",
     "start_time": "2024-03-11T14:36:59.208773Z"
    }
   },
   "id": "f98ba9d3b9f6a77a",
   "execution_count": 12
  },
  {
   "cell_type": "code",
   "outputs": [
    {
     "data": {
      "text/plain": "   number             name            position  age   nation  \\\n0       1  Jude Bellingham  Attacking Midfield   20  England   \n1       2   Erling Haaland      Centre-Forward   23   Norway   \n2       3    Kylian Mbappé      Centre-Forward   25   France   \n3       4  Vinicius Junior         Left Winger   23   Brazil   \n4       5      Bukayo Saka        Right Winger   22  England   \n\n                  team     value  \n0          Real Madrid  €180.00m  \n1      Manchester City  €180.00m  \n2  Paris Saint-Germain  €180.00m  \n3          Real Madrid  €150.00m  \n4           Arsenal FC  €120.00m  ",
      "text/html": "<div>\n<style scoped>\n    .dataframe tbody tr th:only-of-type {\n        vertical-align: middle;\n    }\n\n    .dataframe tbody tr th {\n        vertical-align: top;\n    }\n\n    .dataframe thead th {\n        text-align: right;\n    }\n</style>\n<table border=\"1\" class=\"dataframe\">\n  <thead>\n    <tr style=\"text-align: right;\">\n      <th></th>\n      <th>number</th>\n      <th>name</th>\n      <th>position</th>\n      <th>age</th>\n      <th>nation</th>\n      <th>team</th>\n      <th>value</th>\n    </tr>\n  </thead>\n  <tbody>\n    <tr>\n      <th>0</th>\n      <td>1</td>\n      <td>Jude Bellingham</td>\n      <td>Attacking Midfield</td>\n      <td>20</td>\n      <td>England</td>\n      <td>Real Madrid</td>\n      <td>€180.00m</td>\n    </tr>\n    <tr>\n      <th>1</th>\n      <td>2</td>\n      <td>Erling Haaland</td>\n      <td>Centre-Forward</td>\n      <td>23</td>\n      <td>Norway</td>\n      <td>Manchester City</td>\n      <td>€180.00m</td>\n    </tr>\n    <tr>\n      <th>2</th>\n      <td>3</td>\n      <td>Kylian Mbappé</td>\n      <td>Centre-Forward</td>\n      <td>25</td>\n      <td>France</td>\n      <td>Paris Saint-Germain</td>\n      <td>€180.00m</td>\n    </tr>\n    <tr>\n      <th>3</th>\n      <td>4</td>\n      <td>Vinicius Junior</td>\n      <td>Left Winger</td>\n      <td>23</td>\n      <td>Brazil</td>\n      <td>Real Madrid</td>\n      <td>€150.00m</td>\n    </tr>\n    <tr>\n      <th>4</th>\n      <td>5</td>\n      <td>Bukayo Saka</td>\n      <td>Right Winger</td>\n      <td>22</td>\n      <td>England</td>\n      <td>Arsenal FC</td>\n      <td>€120.00m</td>\n    </tr>\n  </tbody>\n</table>\n</div>"
     },
     "execution_count": 13,
     "metadata": {},
     "output_type": "execute_result"
    }
   ],
   "source": [
    "# defalut는 위에 5게\n",
    "df.head()"
   ],
   "metadata": {
    "collapsed": false,
    "ExecuteTime": {
     "end_time": "2024-03-11T14:37:14.179627Z",
     "start_time": "2024-03-11T14:37:14.167676Z"
    }
   },
   "id": "308b920c19ed034f",
   "execution_count": 13
  },
  {
   "cell_type": "code",
   "outputs": [
    {
     "data": {
      "text/plain": "    number                    name            position  age    nation  \\\n45      46  Trent Alexander-Arnold          Right-Back   25   England   \n46      47          James Maddison  Attacking Midfield   27   England   \n47      48         Marcus Rashford         Left Winger   26   England   \n48      49         Bruno Fernandes  Attacking Midfield   29  Portugal   \n49      50           Jack Grealish         Left Winger   28   England   \n\n                 team    value  \n45       Liverpool FC  €70.00m  \n46  Tottenham Hotspur  €70.00m  \n47  Manchester United  €70.00m  \n48  Manchester United  €70.00m  \n49    Manchester City  €70.00m  ",
      "text/html": "<div>\n<style scoped>\n    .dataframe tbody tr th:only-of-type {\n        vertical-align: middle;\n    }\n\n    .dataframe tbody tr th {\n        vertical-align: top;\n    }\n\n    .dataframe thead th {\n        text-align: right;\n    }\n</style>\n<table border=\"1\" class=\"dataframe\">\n  <thead>\n    <tr style=\"text-align: right;\">\n      <th></th>\n      <th>number</th>\n      <th>name</th>\n      <th>position</th>\n      <th>age</th>\n      <th>nation</th>\n      <th>team</th>\n      <th>value</th>\n    </tr>\n  </thead>\n  <tbody>\n    <tr>\n      <th>45</th>\n      <td>46</td>\n      <td>Trent Alexander-Arnold</td>\n      <td>Right-Back</td>\n      <td>25</td>\n      <td>England</td>\n      <td>Liverpool FC</td>\n      <td>€70.00m</td>\n    </tr>\n    <tr>\n      <th>46</th>\n      <td>47</td>\n      <td>James Maddison</td>\n      <td>Attacking Midfield</td>\n      <td>27</td>\n      <td>England</td>\n      <td>Tottenham Hotspur</td>\n      <td>€70.00m</td>\n    </tr>\n    <tr>\n      <th>47</th>\n      <td>48</td>\n      <td>Marcus Rashford</td>\n      <td>Left Winger</td>\n      <td>26</td>\n      <td>England</td>\n      <td>Manchester United</td>\n      <td>€70.00m</td>\n    </tr>\n    <tr>\n      <th>48</th>\n      <td>49</td>\n      <td>Bruno Fernandes</td>\n      <td>Attacking Midfield</td>\n      <td>29</td>\n      <td>Portugal</td>\n      <td>Manchester United</td>\n      <td>€70.00m</td>\n    </tr>\n    <tr>\n      <th>49</th>\n      <td>50</td>\n      <td>Jack Grealish</td>\n      <td>Left Winger</td>\n      <td>28</td>\n      <td>England</td>\n      <td>Manchester City</td>\n      <td>€70.00m</td>\n    </tr>\n  </tbody>\n</table>\n</div>"
     },
     "execution_count": 14,
     "metadata": {},
     "output_type": "execute_result"
    }
   ],
   "source": [
    "#defalut는 아래 다섯개\n",
    "df.tail()"
   ],
   "metadata": {
    "collapsed": false,
    "ExecuteTime": {
     "end_time": "2024-03-11T14:37:34.350982Z",
     "start_time": "2024-03-11T14:37:34.347265Z"
    }
   },
   "id": "dcd0a7e0741e310a",
   "execution_count": 14
  },
  {
   "cell_type": "code",
   "outputs": [
    {
     "data": {
      "text/plain": "   number             name            position  age   nation  \\\n0       1  Jude Bellingham  Attacking Midfield   20  England   \n1       2   Erling Haaland      Centre-Forward   23   Norway   \n2       3    Kylian Mbappé      Centre-Forward   25   France   \n3       4  Vinicius Junior         Left Winger   23   Brazil   \n4       5      Bukayo Saka        Right Winger   22  England   \n\n                  team     value  \n0          Real Madrid  €180.00m  \n1      Manchester City  €180.00m  \n2  Paris Saint-Germain  €180.00m  \n3          Real Madrid  €150.00m  \n4           Arsenal FC  €120.00m  ",
      "text/html": "<div>\n<style scoped>\n    .dataframe tbody tr th:only-of-type {\n        vertical-align: middle;\n    }\n\n    .dataframe tbody tr th {\n        vertical-align: top;\n    }\n\n    .dataframe thead th {\n        text-align: right;\n    }\n</style>\n<table border=\"1\" class=\"dataframe\">\n  <thead>\n    <tr style=\"text-align: right;\">\n      <th></th>\n      <th>number</th>\n      <th>name</th>\n      <th>position</th>\n      <th>age</th>\n      <th>nation</th>\n      <th>team</th>\n      <th>value</th>\n    </tr>\n  </thead>\n  <tbody>\n    <tr>\n      <th>0</th>\n      <td>1</td>\n      <td>Jude Bellingham</td>\n      <td>Attacking Midfield</td>\n      <td>20</td>\n      <td>England</td>\n      <td>Real Madrid</td>\n      <td>€180.00m</td>\n    </tr>\n    <tr>\n      <th>1</th>\n      <td>2</td>\n      <td>Erling Haaland</td>\n      <td>Centre-Forward</td>\n      <td>23</td>\n      <td>Norway</td>\n      <td>Manchester City</td>\n      <td>€180.00m</td>\n    </tr>\n    <tr>\n      <th>2</th>\n      <td>3</td>\n      <td>Kylian Mbappé</td>\n      <td>Centre-Forward</td>\n      <td>25</td>\n      <td>France</td>\n      <td>Paris Saint-Germain</td>\n      <td>€180.00m</td>\n    </tr>\n    <tr>\n      <th>3</th>\n      <td>4</td>\n      <td>Vinicius Junior</td>\n      <td>Left Winger</td>\n      <td>23</td>\n      <td>Brazil</td>\n      <td>Real Madrid</td>\n      <td>€150.00m</td>\n    </tr>\n    <tr>\n      <th>4</th>\n      <td>5</td>\n      <td>Bukayo Saka</td>\n      <td>Right Winger</td>\n      <td>22</td>\n      <td>England</td>\n      <td>Arsenal FC</td>\n      <td>€120.00m</td>\n    </tr>\n  </tbody>\n</table>\n</div>"
     },
     "execution_count": 15,
     "metadata": {},
     "output_type": "execute_result"
    }
   ],
   "source": [
    "#[] 인덱싱\n",
    "df[0:5]"
   ],
   "metadata": {
    "collapsed": false,
    "ExecuteTime": {
     "end_time": "2024-03-11T14:38:43.460923Z",
     "start_time": "2024-03-11T14:38:43.454770Z"
    }
   },
   "id": "6d13426c1ff03e38",
   "execution_count": 15
  },
  {
   "cell_type": "code",
   "outputs": [
    {
     "data": {
      "text/plain": "0    Jude Bellingham\n1     Erling Haaland\n2      Kylian Mbappé\n3    Vinicius Junior\n4        Bukayo Saka\nName: name, dtype: object"
     },
     "execution_count": 16,
     "metadata": {},
     "output_type": "execute_result"
    }
   ],
   "source": [
    "#컬럼이름만 가져오기 ['컬럼명']\n",
    "df['name'].head()"
   ],
   "metadata": {
    "collapsed": false,
    "ExecuteTime": {
     "end_time": "2024-03-11T14:39:57.205498Z",
     "start_time": "2024-03-11T14:39:57.197954Z"
    }
   },
   "id": "ba99d7ebeda3be75",
   "execution_count": 16
  },
  {
   "cell_type": "code",
   "outputs": [
    {
     "data": {
      "text/plain": "              name  number   nation\n0  Jude Bellingham       1  England\n1   Erling Haaland       2   Norway\n2    Kylian Mbappé       3   France\n3  Vinicius Junior       4   Brazil\n4      Bukayo Saka       5  England",
      "text/html": "<div>\n<style scoped>\n    .dataframe tbody tr th:only-of-type {\n        vertical-align: middle;\n    }\n\n    .dataframe tbody tr th {\n        vertical-align: top;\n    }\n\n    .dataframe thead th {\n        text-align: right;\n    }\n</style>\n<table border=\"1\" class=\"dataframe\">\n  <thead>\n    <tr style=\"text-align: right;\">\n      <th></th>\n      <th>name</th>\n      <th>number</th>\n      <th>nation</th>\n    </tr>\n  </thead>\n  <tbody>\n    <tr>\n      <th>0</th>\n      <td>Jude Bellingham</td>\n      <td>1</td>\n      <td>England</td>\n    </tr>\n    <tr>\n      <th>1</th>\n      <td>Erling Haaland</td>\n      <td>2</td>\n      <td>Norway</td>\n    </tr>\n    <tr>\n      <th>2</th>\n      <td>Kylian Mbappé</td>\n      <td>3</td>\n      <td>France</td>\n    </tr>\n    <tr>\n      <th>3</th>\n      <td>Vinicius Junior</td>\n      <td>4</td>\n      <td>Brazil</td>\n    </tr>\n    <tr>\n      <th>4</th>\n      <td>Bukayo Saka</td>\n      <td>5</td>\n      <td>England</td>\n    </tr>\n  </tbody>\n</table>\n</div>"
     },
     "execution_count": 17,
     "metadata": {},
     "output_type": "execute_result"
    }
   ],
   "source": [
    "#여러개의 컬럼을 보기 위해서는 컬럼명을 리스트로 삽입\n",
    "names=['name','number','nation']\n",
    "df[names].head()"
   ],
   "metadata": {
    "collapsed": false,
    "ExecuteTime": {
     "end_time": "2024-03-11T14:40:53.783782Z",
     "start_time": "2024-03-11T14:40:53.777985Z"
    }
   },
   "id": "b7394ce33bbfc06b",
   "execution_count": 17
  },
  {
   "cell_type": "code",
   "outputs": [
    {
     "data": {
      "text/plain": "    number                 name            position  age     nation  \\\n15      16       Moisés Caicedo  Defensive Midfield   22    Ecuador   \n16      17                Pedri    Central Midfield   21      Spain   \n17      18                 Gavi    Central Midfield   19      Spain   \n18      19    Eduardo Camavinga    Central Midfield   21     France   \n19      20       Julián Álvarez      Second Striker   24  Argentina   \n20      21  Aurélien Tchouaméni  Defensive Midfield   24     France   \n\n               team    value  \n15       Chelsea FC  €90.00m  \n16     FC Barcelona  €90.00m  \n17     FC Barcelona  €90.00m  \n18      Real Madrid  €90.00m  \n19  Manchester City  €90.00m  \n20      Real Madrid  €90.00m  ",
      "text/html": "<div>\n<style scoped>\n    .dataframe tbody tr th:only-of-type {\n        vertical-align: middle;\n    }\n\n    .dataframe tbody tr th {\n        vertical-align: top;\n    }\n\n    .dataframe thead th {\n        text-align: right;\n    }\n</style>\n<table border=\"1\" class=\"dataframe\">\n  <thead>\n    <tr style=\"text-align: right;\">\n      <th></th>\n      <th>number</th>\n      <th>name</th>\n      <th>position</th>\n      <th>age</th>\n      <th>nation</th>\n      <th>team</th>\n      <th>value</th>\n    </tr>\n  </thead>\n  <tbody>\n    <tr>\n      <th>15</th>\n      <td>16</td>\n      <td>Moisés Caicedo</td>\n      <td>Defensive Midfield</td>\n      <td>22</td>\n      <td>Ecuador</td>\n      <td>Chelsea FC</td>\n      <td>€90.00m</td>\n    </tr>\n    <tr>\n      <th>16</th>\n      <td>17</td>\n      <td>Pedri</td>\n      <td>Central Midfield</td>\n      <td>21</td>\n      <td>Spain</td>\n      <td>FC Barcelona</td>\n      <td>€90.00m</td>\n    </tr>\n    <tr>\n      <th>17</th>\n      <td>18</td>\n      <td>Gavi</td>\n      <td>Central Midfield</td>\n      <td>19</td>\n      <td>Spain</td>\n      <td>FC Barcelona</td>\n      <td>€90.00m</td>\n    </tr>\n    <tr>\n      <th>18</th>\n      <td>19</td>\n      <td>Eduardo Camavinga</td>\n      <td>Central Midfield</td>\n      <td>21</td>\n      <td>France</td>\n      <td>Real Madrid</td>\n      <td>€90.00m</td>\n    </tr>\n    <tr>\n      <th>19</th>\n      <td>20</td>\n      <td>Julián Álvarez</td>\n      <td>Second Striker</td>\n      <td>24</td>\n      <td>Argentina</td>\n      <td>Manchester City</td>\n      <td>€90.00m</td>\n    </tr>\n    <tr>\n      <th>20</th>\n      <td>21</td>\n      <td>Aurélien Tchouaméni</td>\n      <td>Defensive Midfield</td>\n      <td>24</td>\n      <td>France</td>\n      <td>Real Madrid</td>\n      <td>€90.00m</td>\n    </tr>\n  </tbody>\n</table>\n</div>"
     },
     "execution_count": 18,
     "metadata": {},
     "output_type": "execute_result"
    }
   ],
   "source": [
    "df[15:21]"
   ],
   "metadata": {
    "collapsed": false,
    "ExecuteTime": {
     "end_time": "2024-03-11T14:41:15.970282Z",
     "start_time": "2024-03-11T14:41:15.962731Z"
    }
   },
   "id": "c58e2c50e276a1e9",
   "execution_count": 18
  },
  {
   "cell_type": "code",
   "outputs": [
    {
     "data": {
      "text/plain": "   number             name            position  age   nation             team  \\\n0       1  Jude Bellingham  Attacking Midfield   20  England      Real Madrid   \n1       2   Erling Haaland      Centre-Forward   23   Norway  Manchester City   \n\n      value  \n0  €180.00m  \n1  €180.00m  ",
      "text/html": "<div>\n<style scoped>\n    .dataframe tbody tr th:only-of-type {\n        vertical-align: middle;\n    }\n\n    .dataframe tbody tr th {\n        vertical-align: top;\n    }\n\n    .dataframe thead th {\n        text-align: right;\n    }\n</style>\n<table border=\"1\" class=\"dataframe\">\n  <thead>\n    <tr style=\"text-align: right;\">\n      <th></th>\n      <th>number</th>\n      <th>name</th>\n      <th>position</th>\n      <th>age</th>\n      <th>nation</th>\n      <th>team</th>\n      <th>value</th>\n    </tr>\n  </thead>\n  <tbody>\n    <tr>\n      <th>0</th>\n      <td>1</td>\n      <td>Jude Bellingham</td>\n      <td>Attacking Midfield</td>\n      <td>20</td>\n      <td>England</td>\n      <td>Real Madrid</td>\n      <td>€180.00m</td>\n    </tr>\n    <tr>\n      <th>1</th>\n      <td>2</td>\n      <td>Erling Haaland</td>\n      <td>Centre-Forward</td>\n      <td>23</td>\n      <td>Norway</td>\n      <td>Manchester City</td>\n      <td>€180.00m</td>\n    </tr>\n  </tbody>\n</table>\n</div>"
     },
     "execution_count": 19,
     "metadata": {},
     "output_type": "execute_result"
    }
   ],
   "source": [
    "# iloc\n",
    "df.iloc[0:2]\n",
    "# df[0:2]와 같다"
   ],
   "metadata": {
    "collapsed": false,
    "ExecuteTime": {
     "end_time": "2024-03-11T14:41:52.095905Z",
     "start_time": "2024-03-11T14:41:52.088996Z"
    }
   },
   "id": "4389e090df3c792f",
   "execution_count": 19
  },
  {
   "cell_type": "code",
   "outputs": [
    {
     "data": {
      "text/plain": "   number             name            position  age   nation  \\\n0       1  Jude Bellingham  Attacking Midfield   20  England   \n1       2   Erling Haaland      Centre-Forward   23   Norway   \n2       3    Kylian Mbappé      Centre-Forward   25   France   \n\n                  team     value  \n0          Real Madrid  €180.00m  \n1      Manchester City  €180.00m  \n2  Paris Saint-Germain  €180.00m  ",
      "text/html": "<div>\n<style scoped>\n    .dataframe tbody tr th:only-of-type {\n        vertical-align: middle;\n    }\n\n    .dataframe tbody tr th {\n        vertical-align: top;\n    }\n\n    .dataframe thead th {\n        text-align: right;\n    }\n</style>\n<table border=\"1\" class=\"dataframe\">\n  <thead>\n    <tr style=\"text-align: right;\">\n      <th></th>\n      <th>number</th>\n      <th>name</th>\n      <th>position</th>\n      <th>age</th>\n      <th>nation</th>\n      <th>team</th>\n      <th>value</th>\n    </tr>\n  </thead>\n  <tbody>\n    <tr>\n      <th>0</th>\n      <td>1</td>\n      <td>Jude Bellingham</td>\n      <td>Attacking Midfield</td>\n      <td>20</td>\n      <td>England</td>\n      <td>Real Madrid</td>\n      <td>€180.00m</td>\n    </tr>\n    <tr>\n      <th>1</th>\n      <td>2</td>\n      <td>Erling Haaland</td>\n      <td>Centre-Forward</td>\n      <td>23</td>\n      <td>Norway</td>\n      <td>Manchester City</td>\n      <td>€180.00m</td>\n    </tr>\n    <tr>\n      <th>2</th>\n      <td>3</td>\n      <td>Kylian Mbappé</td>\n      <td>Centre-Forward</td>\n      <td>25</td>\n      <td>France</td>\n      <td>Paris Saint-Germain</td>\n      <td>€180.00m</td>\n    </tr>\n  </tbody>\n</table>\n</div>"
     },
     "execution_count": 20,
     "metadata": {},
     "output_type": "execute_result"
    }
   ],
   "source": [
    "#마지막 숫자도 포함\n",
    "df.loc[0:2]\n"
   ],
   "metadata": {
    "collapsed": false,
    "ExecuteTime": {
     "end_time": "2024-03-11T14:42:16.409798Z",
     "start_time": "2024-03-11T14:42:16.402651Z"
    }
   },
   "id": "915fcedfd9c54f3d",
   "execution_count": 20
  },
  {
   "cell_type": "code",
   "outputs": [
    {
     "data": {
      "text/plain": "'Jude Bellingham'"
     },
     "execution_count": 21,
     "metadata": {},
     "output_type": "execute_result"
    }
   ],
   "source": [
    "#쉼표 기준으로 행과 열 표시 df.loc[행이름,열이름]\n",
    "df.loc[0,'name']"
   ],
   "metadata": {
    "collapsed": false,
    "ExecuteTime": {
     "end_time": "2024-03-11T14:43:43.038522Z",
     "start_time": "2024-03-11T14:43:43.030778Z"
    }
   },
   "id": "1f3a3b27a2b001e1",
   "execution_count": 21
  },
  {
   "cell_type": "code",
   "outputs": [
    {
     "data": {
      "text/plain": "              name  number   nation     value\n0  Jude Bellingham       1  England  €180.00m\n1   Erling Haaland       2   Norway  €180.00m\n2    Kylian Mbappé       3   France  €180.00m\n3  Vinicius Junior       4   Brazil  €150.00m\n4      Bukayo Saka       5  England  €120.00m\n5    Jamal Musiala       6  Germany  €110.00m",
      "text/html": "<div>\n<style scoped>\n    .dataframe tbody tr th:only-of-type {\n        vertical-align: middle;\n    }\n\n    .dataframe tbody tr th {\n        vertical-align: top;\n    }\n\n    .dataframe thead th {\n        text-align: right;\n    }\n</style>\n<table border=\"1\" class=\"dataframe\">\n  <thead>\n    <tr style=\"text-align: right;\">\n      <th></th>\n      <th>name</th>\n      <th>number</th>\n      <th>nation</th>\n      <th>value</th>\n    </tr>\n  </thead>\n  <tbody>\n    <tr>\n      <th>0</th>\n      <td>Jude Bellingham</td>\n      <td>1</td>\n      <td>England</td>\n      <td>€180.00m</td>\n    </tr>\n    <tr>\n      <th>1</th>\n      <td>Erling Haaland</td>\n      <td>2</td>\n      <td>Norway</td>\n      <td>€180.00m</td>\n    </tr>\n    <tr>\n      <th>2</th>\n      <td>Kylian Mbappé</td>\n      <td>3</td>\n      <td>France</td>\n      <td>€180.00m</td>\n    </tr>\n    <tr>\n      <th>3</th>\n      <td>Vinicius Junior</td>\n      <td>4</td>\n      <td>Brazil</td>\n      <td>€150.00m</td>\n    </tr>\n    <tr>\n      <th>4</th>\n      <td>Bukayo Saka</td>\n      <td>5</td>\n      <td>England</td>\n      <td>€120.00m</td>\n    </tr>\n    <tr>\n      <th>5</th>\n      <td>Jamal Musiala</td>\n      <td>6</td>\n      <td>Germany</td>\n      <td>€110.00m</td>\n    </tr>\n  </tbody>\n</table>\n</div>"
     },
     "execution_count": 24,
     "metadata": {},
     "output_type": "execute_result"
    }
   ],
   "source": [
    "df.loc[0:5,names+['value']]"
   ],
   "metadata": {
    "collapsed": false,
    "ExecuteTime": {
     "end_time": "2024-03-11T14:44:37.219462Z",
     "start_time": "2024-03-11T14:44:37.217406Z"
    }
   },
   "id": "b2724d353d3828ab",
   "execution_count": 24
  },
  {
   "cell_type": "code",
   "outputs": [
    {
     "data": {
      "text/plain": "    number             name            position  age       nation  \\\n0        1  Jude Bellingham  Attacking Midfield   20      England   \n12      13    Florian Wirtz  Attacking Midfield   20      Germany   \n17      18             Gavi    Central Midfield   19        Spain   \n38      39      Xavi Simons  Attacking Midfield   20  Netherlands   \n\n                   team     value  \n0           Real Madrid  €180.00m  \n12  Bayer 04 Leverkusen  €100.00m  \n17         FC Barcelona   €90.00m  \n38           RB Leipzig   €70.00m  ",
      "text/html": "<div>\n<style scoped>\n    .dataframe tbody tr th:only-of-type {\n        vertical-align: middle;\n    }\n\n    .dataframe tbody tr th {\n        vertical-align: top;\n    }\n\n    .dataframe thead th {\n        text-align: right;\n    }\n</style>\n<table border=\"1\" class=\"dataframe\">\n  <thead>\n    <tr style=\"text-align: right;\">\n      <th></th>\n      <th>number</th>\n      <th>name</th>\n      <th>position</th>\n      <th>age</th>\n      <th>nation</th>\n      <th>team</th>\n      <th>value</th>\n    </tr>\n  </thead>\n  <tbody>\n    <tr>\n      <th>0</th>\n      <td>1</td>\n      <td>Jude Bellingham</td>\n      <td>Attacking Midfield</td>\n      <td>20</td>\n      <td>England</td>\n      <td>Real Madrid</td>\n      <td>€180.00m</td>\n    </tr>\n    <tr>\n      <th>12</th>\n      <td>13</td>\n      <td>Florian Wirtz</td>\n      <td>Attacking Midfield</td>\n      <td>20</td>\n      <td>Germany</td>\n      <td>Bayer 04 Leverkusen</td>\n      <td>€100.00m</td>\n    </tr>\n    <tr>\n      <th>17</th>\n      <td>18</td>\n      <td>Gavi</td>\n      <td>Central Midfield</td>\n      <td>19</td>\n      <td>Spain</td>\n      <td>FC Barcelona</td>\n      <td>€90.00m</td>\n    </tr>\n    <tr>\n      <th>38</th>\n      <td>39</td>\n      <td>Xavi Simons</td>\n      <td>Attacking Midfield</td>\n      <td>20</td>\n      <td>Netherlands</td>\n      <td>RB Leipzig</td>\n      <td>€70.00m</td>\n    </tr>\n  </tbody>\n</table>\n</div>"
     },
     "execution_count": 26,
     "metadata": {},
     "output_type": "execute_result"
    }
   ],
   "source": [
    "age20isUnder=df['age']<=20\n",
    "df[age20isUnder]\n"
   ],
   "metadata": {
    "collapsed": false,
    "ExecuteTime": {
     "end_time": "2024-03-11T14:45:25.707237Z",
     "start_time": "2024-03-11T14:45:25.692040Z"
    }
   },
   "id": "69ae5b2e46e1bb87",
   "execution_count": 26
  },
  {
   "cell_type": "code",
   "outputs": [
    {
     "data": {
      "text/plain": "    number                 name            position  age   nation  \\\n0        1      Jude Bellingham  Attacking Midfield   20  England   \n3        4      Vinicius Junior         Left Winger   23   Brazil   \n13      14              Rodrygo        Right Winger   23   Brazil   \n14      15    Federico Valverde    Central Midfield   25  Uruguay   \n18      19    Eduardo Camavinga    Central Midfield   21   France   \n20      21  Aurélien Tchouaméni  Defensive Midfield   24   France   \n42      43         Éder Militão         Centre-Back   26   Brazil   \n\n           team     value  \n0   Real Madrid  €180.00m  \n3   Real Madrid  €150.00m  \n13  Real Madrid  €100.00m  \n14  Real Madrid  €100.00m  \n18  Real Madrid   €90.00m  \n20  Real Madrid   €90.00m  \n42  Real Madrid   €70.00m  ",
      "text/html": "<div>\n<style scoped>\n    .dataframe tbody tr th:only-of-type {\n        vertical-align: middle;\n    }\n\n    .dataframe tbody tr th {\n        vertical-align: top;\n    }\n\n    .dataframe thead th {\n        text-align: right;\n    }\n</style>\n<table border=\"1\" class=\"dataframe\">\n  <thead>\n    <tr style=\"text-align: right;\">\n      <th></th>\n      <th>number</th>\n      <th>name</th>\n      <th>position</th>\n      <th>age</th>\n      <th>nation</th>\n      <th>team</th>\n      <th>value</th>\n    </tr>\n  </thead>\n  <tbody>\n    <tr>\n      <th>0</th>\n      <td>1</td>\n      <td>Jude Bellingham</td>\n      <td>Attacking Midfield</td>\n      <td>20</td>\n      <td>England</td>\n      <td>Real Madrid</td>\n      <td>€180.00m</td>\n    </tr>\n    <tr>\n      <th>3</th>\n      <td>4</td>\n      <td>Vinicius Junior</td>\n      <td>Left Winger</td>\n      <td>23</td>\n      <td>Brazil</td>\n      <td>Real Madrid</td>\n      <td>€150.00m</td>\n    </tr>\n    <tr>\n      <th>13</th>\n      <td>14</td>\n      <td>Rodrygo</td>\n      <td>Right Winger</td>\n      <td>23</td>\n      <td>Brazil</td>\n      <td>Real Madrid</td>\n      <td>€100.00m</td>\n    </tr>\n    <tr>\n      <th>14</th>\n      <td>15</td>\n      <td>Federico Valverde</td>\n      <td>Central Midfield</td>\n      <td>25</td>\n      <td>Uruguay</td>\n      <td>Real Madrid</td>\n      <td>€100.00m</td>\n    </tr>\n    <tr>\n      <th>18</th>\n      <td>19</td>\n      <td>Eduardo Camavinga</td>\n      <td>Central Midfield</td>\n      <td>21</td>\n      <td>France</td>\n      <td>Real Madrid</td>\n      <td>€90.00m</td>\n    </tr>\n    <tr>\n      <th>20</th>\n      <td>21</td>\n      <td>Aurélien Tchouaméni</td>\n      <td>Defensive Midfield</td>\n      <td>24</td>\n      <td>France</td>\n      <td>Real Madrid</td>\n      <td>€90.00m</td>\n    </tr>\n    <tr>\n      <th>42</th>\n      <td>43</td>\n      <td>Éder Militão</td>\n      <td>Centre-Back</td>\n      <td>26</td>\n      <td>Brazil</td>\n      <td>Real Madrid</td>\n      <td>€70.00m</td>\n    </tr>\n  </tbody>\n</table>\n</div>"
     },
     "execution_count": 27,
     "metadata": {},
     "output_type": "execute_result"
    }
   ],
   "source": [
    "df[df['team']=='Real Madrid']"
   ],
   "metadata": {
    "collapsed": false,
    "ExecuteTime": {
     "end_time": "2024-03-11T14:46:27.285398Z",
     "start_time": "2024-03-11T14:46:27.279356Z"
    }
   },
   "id": "231a1898f5f19d21",
   "execution_count": 27
  },
  {
   "cell_type": "code",
   "outputs": [
    {
     "data": {
      "text/plain": "          name     value\n11  Harry Kane  €110.00m",
      "text/html": "<div>\n<style scoped>\n    .dataframe tbody tr th:only-of-type {\n        vertical-align: middle;\n    }\n\n    .dataframe tbody tr th {\n        vertical-align: top;\n    }\n\n    .dataframe thead th {\n        text-align: right;\n    }\n</style>\n<table border=\"1\" class=\"dataframe\">\n  <thead>\n    <tr style=\"text-align: right;\">\n      <th></th>\n      <th>name</th>\n      <th>value</th>\n    </tr>\n  </thead>\n  <tbody>\n    <tr>\n      <th>11</th>\n      <td>Harry Kane</td>\n      <td>€110.00m</td>\n    </tr>\n  </tbody>\n</table>\n</div>"
     },
     "execution_count": 29,
     "metadata": {},
     "output_type": "execute_result"
    }
   ],
   "source": [
    "age30IsUnder=df['age']>=30\n",
    "df.loc[age30IsUnder,['name','value']]\n"
   ],
   "metadata": {
    "collapsed": false,
    "ExecuteTime": {
     "end_time": "2024-03-11T14:48:09.898792Z",
     "start_time": "2024-03-11T14:48:09.894681Z"
    }
   },
   "id": "585710d60d04977b",
   "execution_count": 29
  },
  {
   "cell_type": "code",
   "outputs": [],
   "source": [],
   "metadata": {
    "collapsed": false
   },
   "id": "c43f3a554e6571a4"
  }
 ],
 "metadata": {
  "kernelspec": {
   "display_name": "Python 3",
   "language": "python",
   "name": "python3"
  },
  "language_info": {
   "codemirror_mode": {
    "name": "ipython",
    "version": 2
   },
   "file_extension": ".py",
   "mimetype": "text/x-python",
   "name": "python",
   "nbconvert_exporter": "python",
   "pygments_lexer": "ipython2",
   "version": "2.7.6"
  }
 },
 "nbformat": 4,
 "nbformat_minor": 5
}
