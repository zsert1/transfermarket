{
 "cells": [
  {
   "cell_type": "code",
   "execution_count": 1,
   "id": "initial_id",
   "metadata": {
    "collapsed": true,
    "ExecuteTime": {
     "end_time": "2024-03-12T11:09:25.096703Z",
     "start_time": "2024-03-12T11:09:24.378361Z"
    }
   },
   "outputs": [],
   "source": [
    "import  requests\n",
    "from bs4 import BeautifulSoup\n",
    "import  pandas as pd"
   ]
  },
  {
   "cell_type": "code",
   "outputs": [
    {
     "data": {
      "text/plain": "    이름  나이     소속\n0  손흥민  30     한국\n1  호날두  35   포르투갈\n2   메시  37  아르헨티나",
      "text/html": "<div>\n<style scoped>\n    .dataframe tbody tr th:only-of-type {\n        vertical-align: middle;\n    }\n\n    .dataframe tbody tr th {\n        vertical-align: top;\n    }\n\n    .dataframe thead th {\n        text-align: right;\n    }\n</style>\n<table border=\"1\" class=\"dataframe\">\n  <thead>\n    <tr style=\"text-align: right;\">\n      <th></th>\n      <th>이름</th>\n      <th>나이</th>\n      <th>소속</th>\n    </tr>\n  </thead>\n  <tbody>\n    <tr>\n      <th>0</th>\n      <td>손흥민</td>\n      <td>30</td>\n      <td>한국</td>\n    </tr>\n    <tr>\n      <th>1</th>\n      <td>호날두</td>\n      <td>35</td>\n      <td>포르투갈</td>\n    </tr>\n    <tr>\n      <th>2</th>\n      <td>메시</td>\n      <td>37</td>\n      <td>아르헨티나</td>\n    </tr>\n  </tbody>\n</table>\n</div>"
     },
     "execution_count": 2,
     "metadata": {},
     "output_type": "execute_result"
    }
   ],
   "source": [
    "df1=pd.DataFrame({\"이름\":[\"손흥민\",\"호날두\",\"메시\"],\"나이\":[30,35,37],\"소속\":[\"한국\",\"포르투갈\",\"아르헨티나\"]})\n",
    "df1"
   ],
   "metadata": {
    "collapsed": false,
    "ExecuteTime": {
     "end_time": "2024-03-12T11:09:25.110961Z",
     "start_time": "2024-03-12T11:09:25.098448Z"
    }
   },
   "id": "524d077939c1cd87",
   "execution_count": 2
  },
  {
   "cell_type": "code",
   "outputs": [
    {
     "data": {
      "text/plain": "    이름  나이     소속\n1  손흥민  30     한국\n2  호날두  35   포르투갈\n3   메시  37  아르헨티나",
      "text/html": "<div>\n<style scoped>\n    .dataframe tbody tr th:only-of-type {\n        vertical-align: middle;\n    }\n\n    .dataframe tbody tr th {\n        vertical-align: top;\n    }\n\n    .dataframe thead th {\n        text-align: right;\n    }\n</style>\n<table border=\"1\" class=\"dataframe\">\n  <thead>\n    <tr style=\"text-align: right;\">\n      <th></th>\n      <th>이름</th>\n      <th>나이</th>\n      <th>소속</th>\n    </tr>\n  </thead>\n  <tbody>\n    <tr>\n      <th>1</th>\n      <td>손흥민</td>\n      <td>30</td>\n      <td>한국</td>\n    </tr>\n    <tr>\n      <th>2</th>\n      <td>호날두</td>\n      <td>35</td>\n      <td>포르투갈</td>\n    </tr>\n    <tr>\n      <th>3</th>\n      <td>메시</td>\n      <td>37</td>\n      <td>아르헨티나</td>\n    </tr>\n  </tbody>\n</table>\n</div>"
     },
     "execution_count": 3,
     "metadata": {},
     "output_type": "execute_result"
    }
   ],
   "source": [
    "df1=pd.DataFrame({\"이름\":[\"손흥민\",\"호날두\",\"메시\"],\"나이\":[30,35,37],\"소속\":[\"한국\",\"포르투갈\",\"아르헨티나\"]},index=[1,2,3])\n",
    "df1"
   ],
   "metadata": {
    "collapsed": false,
    "ExecuteTime": {
     "end_time": "2024-03-12T11:09:25.111727Z",
     "start_time": "2024-03-12T11:09:25.107426Z"
    }
   },
   "id": "f17fefa89a3c0806",
   "execution_count": 3
  },
  {
   "cell_type": "code",
   "outputs": [
    {
     "data": {
      "text/plain": "    이름    나이     소속\n0  손흥민   호날두     메시\n1   30    35     37\n2   한국  포르투갈  아르헨티나",
      "text/html": "<div>\n<style scoped>\n    .dataframe tbody tr th:only-of-type {\n        vertical-align: middle;\n    }\n\n    .dataframe tbody tr th {\n        vertical-align: top;\n    }\n\n    .dataframe thead th {\n        text-align: right;\n    }\n</style>\n<table border=\"1\" class=\"dataframe\">\n  <thead>\n    <tr style=\"text-align: right;\">\n      <th></th>\n      <th>이름</th>\n      <th>나이</th>\n      <th>소속</th>\n    </tr>\n  </thead>\n  <tbody>\n    <tr>\n      <th>0</th>\n      <td>손흥민</td>\n      <td>호날두</td>\n      <td>메시</td>\n    </tr>\n    <tr>\n      <th>1</th>\n      <td>30</td>\n      <td>35</td>\n      <td>37</td>\n    </tr>\n    <tr>\n      <th>2</th>\n      <td>한국</td>\n      <td>포르투갈</td>\n      <td>아르헨티나</td>\n    </tr>\n  </tbody>\n</table>\n</div>"
     },
     "execution_count": 4,
     "metadata": {},
     "output_type": "execute_result"
    }
   ],
   "source": [
    "play_list=[[\"손흥민\",\"호날두\",\"메시\"],[30,35,37],[\"한국\",\"포르투갈\",\"아르헨티나\"]]\n",
    "df2=pd.DataFrame(play_list,columns=['이름','나이','소속'])\n",
    "df2"
   ],
   "metadata": {
    "collapsed": false,
    "ExecuteTime": {
     "end_time": "2024-03-12T11:09:25.113775Z",
     "start_time": "2024-03-12T11:09:25.112037Z"
    }
   },
   "id": "81908b9541f03749",
   "execution_count": 4
  },
  {
   "cell_type": "code",
   "outputs": [],
   "source": [
    "df=pd.read_csv('./data/transfermarket50.csv')\n"
   ],
   "metadata": {
    "collapsed": false,
    "ExecuteTime": {
     "end_time": "2024-03-12T11:09:25.129404Z",
     "start_time": "2024-03-12T11:09:25.114198Z"
    }
   },
   "id": "df2d9e657469ffd1",
   "execution_count": 5
  },
  {
   "cell_type": "code",
   "outputs": [
    {
     "data": {
      "text/plain": "(50, 7)"
     },
     "execution_count": 6,
     "metadata": {},
     "output_type": "execute_result"
    }
   ],
   "source": [
    "# 데이터의 {행,렬}\n",
    "df.shape"
   ],
   "metadata": {
    "collapsed": false,
    "ExecuteTime": {
     "end_time": "2024-03-12T11:09:25.130350Z",
     "start_time": "2024-03-12T11:09:25.119175Z"
    }
   },
   "id": "e9e492bcaabfe1ee",
   "execution_count": 6
  },
  {
   "cell_type": "code",
   "outputs": [],
   "source": [
    "(rows,colums)=df.shape"
   ],
   "metadata": {
    "collapsed": false,
    "ExecuteTime": {
     "end_time": "2024-03-12T11:09:25.144296Z",
     "start_time": "2024-03-12T11:09:25.121390Z"
    }
   },
   "id": "d83c0ffcf7b916ef",
   "execution_count": 7
  },
  {
   "cell_type": "code",
   "outputs": [
    {
     "data": {
      "text/plain": "50"
     },
     "execution_count": 8,
     "metadata": {},
     "output_type": "execute_result"
    }
   ],
   "source": [
    "rows"
   ],
   "metadata": {
    "collapsed": false,
    "ExecuteTime": {
     "end_time": "2024-03-12T11:09:25.145083Z",
     "start_time": "2024-03-12T11:09:25.123828Z"
    }
   },
   "id": "2059d4d64ca96f70",
   "execution_count": 8
  },
  {
   "cell_type": "code",
   "outputs": [
    {
     "data": {
      "text/plain": "7"
     },
     "execution_count": 9,
     "metadata": {},
     "output_type": "execute_result"
    }
   ],
   "source": [
    "colums"
   ],
   "metadata": {
    "collapsed": false,
    "ExecuteTime": {
     "end_time": "2024-03-12T11:09:25.184717Z",
     "start_time": "2024-03-12T11:09:25.126778Z"
    }
   },
   "id": "693dea42cba5d7ce",
   "execution_count": 9
  },
  {
   "cell_type": "code",
   "outputs": [
    {
     "name": "stdout",
     "output_type": "stream",
     "text": [
      "<class 'pandas.core.frame.DataFrame'>\n",
      "RangeIndex: 50 entries, 0 to 49\n",
      "Data columns (total 7 columns):\n",
      " #   Column    Non-Null Count  Dtype \n",
      "---  ------    --------------  ----- \n",
      " 0   number    50 non-null     int64 \n",
      " 1   name      50 non-null     object\n",
      " 2   position  50 non-null     object\n",
      " 3   age       50 non-null     int64 \n",
      " 4   nation    50 non-null     object\n",
      " 5   team      50 non-null     object\n",
      " 6   value     50 non-null     object\n",
      "dtypes: int64(2), object(5)\n",
      "memory usage: 2.9+ KB\n"
     ]
    }
   ],
   "source": [
    "df.info()"
   ],
   "metadata": {
    "collapsed": false,
    "ExecuteTime": {
     "end_time": "2024-03-12T11:09:25.210930Z",
     "start_time": "2024-03-12T11:09:25.136365Z"
    }
   },
   "id": "f98ba9d3b9f6a77a",
   "execution_count": 10
  },
  {
   "cell_type": "code",
   "outputs": [
    {
     "data": {
      "text/plain": "   number             name            position  age   nation  \\\n0       1  Jude Bellingham  Attacking Midfield   20  England   \n1       2   Erling Haaland      Centre-Forward   23   Norway   \n2       3    Kylian Mbappé      Centre-Forward   25   France   \n3       4  Vinicius Junior         Left Winger   23   Brazil   \n4       5      Bukayo Saka        Right Winger   22  England   \n\n                  team     value  \n0          Real Madrid  €180.00m  \n1      Manchester City  €180.00m  \n2  Paris Saint-Germain  €180.00m  \n3          Real Madrid  €150.00m  \n4           Arsenal FC  €120.00m  ",
      "text/html": "<div>\n<style scoped>\n    .dataframe tbody tr th:only-of-type {\n        vertical-align: middle;\n    }\n\n    .dataframe tbody tr th {\n        vertical-align: top;\n    }\n\n    .dataframe thead th {\n        text-align: right;\n    }\n</style>\n<table border=\"1\" class=\"dataframe\">\n  <thead>\n    <tr style=\"text-align: right;\">\n      <th></th>\n      <th>number</th>\n      <th>name</th>\n      <th>position</th>\n      <th>age</th>\n      <th>nation</th>\n      <th>team</th>\n      <th>value</th>\n    </tr>\n  </thead>\n  <tbody>\n    <tr>\n      <th>0</th>\n      <td>1</td>\n      <td>Jude Bellingham</td>\n      <td>Attacking Midfield</td>\n      <td>20</td>\n      <td>England</td>\n      <td>Real Madrid</td>\n      <td>€180.00m</td>\n    </tr>\n    <tr>\n      <th>1</th>\n      <td>2</td>\n      <td>Erling Haaland</td>\n      <td>Centre-Forward</td>\n      <td>23</td>\n      <td>Norway</td>\n      <td>Manchester City</td>\n      <td>€180.00m</td>\n    </tr>\n    <tr>\n      <th>2</th>\n      <td>3</td>\n      <td>Kylian Mbappé</td>\n      <td>Centre-Forward</td>\n      <td>25</td>\n      <td>France</td>\n      <td>Paris Saint-Germain</td>\n      <td>€180.00m</td>\n    </tr>\n    <tr>\n      <th>3</th>\n      <td>4</td>\n      <td>Vinicius Junior</td>\n      <td>Left Winger</td>\n      <td>23</td>\n      <td>Brazil</td>\n      <td>Real Madrid</td>\n      <td>€150.00m</td>\n    </tr>\n    <tr>\n      <th>4</th>\n      <td>5</td>\n      <td>Bukayo Saka</td>\n      <td>Right Winger</td>\n      <td>22</td>\n      <td>England</td>\n      <td>Arsenal FC</td>\n      <td>€120.00m</td>\n    </tr>\n  </tbody>\n</table>\n</div>"
     },
     "execution_count": 11,
     "metadata": {},
     "output_type": "execute_result"
    }
   ],
   "source": [
    "# defalut는 위에 5게\n",
    "df.head()"
   ],
   "metadata": {
    "collapsed": false,
    "ExecuteTime": {
     "end_time": "2024-03-12T11:09:25.266739Z",
     "start_time": "2024-03-12T11:09:25.140670Z"
    }
   },
   "id": "308b920c19ed034f",
   "execution_count": 11
  },
  {
   "cell_type": "code",
   "outputs": [
    {
     "data": {
      "text/plain": "    number                    name            position  age    nation  \\\n45      46  Trent Alexander-Arnold          Right-Back   25   England   \n46      47          James Maddison  Attacking Midfield   27   England   \n47      48         Marcus Rashford         Left Winger   26   England   \n48      49         Bruno Fernandes  Attacking Midfield   29  Portugal   \n49      50           Jack Grealish         Left Winger   28   England   \n\n                 team    value  \n45       Liverpool FC  €70.00m  \n46  Tottenham Hotspur  €70.00m  \n47  Manchester United  €70.00m  \n48  Manchester United  €70.00m  \n49    Manchester City  €70.00m  ",
      "text/html": "<div>\n<style scoped>\n    .dataframe tbody tr th:only-of-type {\n        vertical-align: middle;\n    }\n\n    .dataframe tbody tr th {\n        vertical-align: top;\n    }\n\n    .dataframe thead th {\n        text-align: right;\n    }\n</style>\n<table border=\"1\" class=\"dataframe\">\n  <thead>\n    <tr style=\"text-align: right;\">\n      <th></th>\n      <th>number</th>\n      <th>name</th>\n      <th>position</th>\n      <th>age</th>\n      <th>nation</th>\n      <th>team</th>\n      <th>value</th>\n    </tr>\n  </thead>\n  <tbody>\n    <tr>\n      <th>45</th>\n      <td>46</td>\n      <td>Trent Alexander-Arnold</td>\n      <td>Right-Back</td>\n      <td>25</td>\n      <td>England</td>\n      <td>Liverpool FC</td>\n      <td>€70.00m</td>\n    </tr>\n    <tr>\n      <th>46</th>\n      <td>47</td>\n      <td>James Maddison</td>\n      <td>Attacking Midfield</td>\n      <td>27</td>\n      <td>England</td>\n      <td>Tottenham Hotspur</td>\n      <td>€70.00m</td>\n    </tr>\n    <tr>\n      <th>47</th>\n      <td>48</td>\n      <td>Marcus Rashford</td>\n      <td>Left Winger</td>\n      <td>26</td>\n      <td>England</td>\n      <td>Manchester United</td>\n      <td>€70.00m</td>\n    </tr>\n    <tr>\n      <th>48</th>\n      <td>49</td>\n      <td>Bruno Fernandes</td>\n      <td>Attacking Midfield</td>\n      <td>29</td>\n      <td>Portugal</td>\n      <td>Manchester United</td>\n      <td>€70.00m</td>\n    </tr>\n    <tr>\n      <th>49</th>\n      <td>50</td>\n      <td>Jack Grealish</td>\n      <td>Left Winger</td>\n      <td>28</td>\n      <td>England</td>\n      <td>Manchester City</td>\n      <td>€70.00m</td>\n    </tr>\n  </tbody>\n</table>\n</div>"
     },
     "execution_count": 12,
     "metadata": {},
     "output_type": "execute_result"
    }
   ],
   "source": [
    "#defalut는 아래 다섯개\n",
    "df.tail()"
   ],
   "metadata": {
    "collapsed": false,
    "ExecuteTime": {
     "end_time": "2024-03-12T11:09:25.268143Z",
     "start_time": "2024-03-12T11:09:25.144694Z"
    }
   },
   "id": "dcd0a7e0741e310a",
   "execution_count": 12
  },
  {
   "cell_type": "code",
   "outputs": [
    {
     "data": {
      "text/plain": "   number             name            position  age   nation  \\\n0       1  Jude Bellingham  Attacking Midfield   20  England   \n1       2   Erling Haaland      Centre-Forward   23   Norway   \n2       3    Kylian Mbappé      Centre-Forward   25   France   \n3       4  Vinicius Junior         Left Winger   23   Brazil   \n4       5      Bukayo Saka        Right Winger   22  England   \n\n                  team     value  \n0          Real Madrid  €180.00m  \n1      Manchester City  €180.00m  \n2  Paris Saint-Germain  €180.00m  \n3          Real Madrid  €150.00m  \n4           Arsenal FC  €120.00m  ",
      "text/html": "<div>\n<style scoped>\n    .dataframe tbody tr th:only-of-type {\n        vertical-align: middle;\n    }\n\n    .dataframe tbody tr th {\n        vertical-align: top;\n    }\n\n    .dataframe thead th {\n        text-align: right;\n    }\n</style>\n<table border=\"1\" class=\"dataframe\">\n  <thead>\n    <tr style=\"text-align: right;\">\n      <th></th>\n      <th>number</th>\n      <th>name</th>\n      <th>position</th>\n      <th>age</th>\n      <th>nation</th>\n      <th>team</th>\n      <th>value</th>\n    </tr>\n  </thead>\n  <tbody>\n    <tr>\n      <th>0</th>\n      <td>1</td>\n      <td>Jude Bellingham</td>\n      <td>Attacking Midfield</td>\n      <td>20</td>\n      <td>England</td>\n      <td>Real Madrid</td>\n      <td>€180.00m</td>\n    </tr>\n    <tr>\n      <th>1</th>\n      <td>2</td>\n      <td>Erling Haaland</td>\n      <td>Centre-Forward</td>\n      <td>23</td>\n      <td>Norway</td>\n      <td>Manchester City</td>\n      <td>€180.00m</td>\n    </tr>\n    <tr>\n      <th>2</th>\n      <td>3</td>\n      <td>Kylian Mbappé</td>\n      <td>Centre-Forward</td>\n      <td>25</td>\n      <td>France</td>\n      <td>Paris Saint-Germain</td>\n      <td>€180.00m</td>\n    </tr>\n    <tr>\n      <th>3</th>\n      <td>4</td>\n      <td>Vinicius Junior</td>\n      <td>Left Winger</td>\n      <td>23</td>\n      <td>Brazil</td>\n      <td>Real Madrid</td>\n      <td>€150.00m</td>\n    </tr>\n    <tr>\n      <th>4</th>\n      <td>5</td>\n      <td>Bukayo Saka</td>\n      <td>Right Winger</td>\n      <td>22</td>\n      <td>England</td>\n      <td>Arsenal FC</td>\n      <td>€120.00m</td>\n    </tr>\n  </tbody>\n</table>\n</div>"
     },
     "execution_count": 13,
     "metadata": {},
     "output_type": "execute_result"
    }
   ],
   "source": [
    "#[] 인덱싱\n",
    "df[0:5]"
   ],
   "metadata": {
    "collapsed": false,
    "ExecuteTime": {
     "end_time": "2024-03-12T11:09:25.278173Z",
     "start_time": "2024-03-12T11:09:25.149008Z"
    }
   },
   "id": "6d13426c1ff03e38",
   "execution_count": 13
  },
  {
   "cell_type": "code",
   "outputs": [
    {
     "data": {
      "text/plain": "0    Jude Bellingham\n1     Erling Haaland\n2      Kylian Mbappé\n3    Vinicius Junior\n4        Bukayo Saka\nName: name, dtype: object"
     },
     "execution_count": 14,
     "metadata": {},
     "output_type": "execute_result"
    }
   ],
   "source": [
    "#컬럼이름만 가져오기 ['컬럼명']\n",
    "df['name'].head()"
   ],
   "metadata": {
    "collapsed": false,
    "ExecuteTime": {
     "end_time": "2024-03-12T11:09:25.278831Z",
     "start_time": "2024-03-12T11:09:25.152201Z"
    }
   },
   "id": "ba99d7ebeda3be75",
   "execution_count": 14
  },
  {
   "cell_type": "code",
   "outputs": [
    {
     "data": {
      "text/plain": "              name  number   nation\n0  Jude Bellingham       1  England\n1   Erling Haaland       2   Norway\n2    Kylian Mbappé       3   France\n3  Vinicius Junior       4   Brazil\n4      Bukayo Saka       5  England",
      "text/html": "<div>\n<style scoped>\n    .dataframe tbody tr th:only-of-type {\n        vertical-align: middle;\n    }\n\n    .dataframe tbody tr th {\n        vertical-align: top;\n    }\n\n    .dataframe thead th {\n        text-align: right;\n    }\n</style>\n<table border=\"1\" class=\"dataframe\">\n  <thead>\n    <tr style=\"text-align: right;\">\n      <th></th>\n      <th>name</th>\n      <th>number</th>\n      <th>nation</th>\n    </tr>\n  </thead>\n  <tbody>\n    <tr>\n      <th>0</th>\n      <td>Jude Bellingham</td>\n      <td>1</td>\n      <td>England</td>\n    </tr>\n    <tr>\n      <th>1</th>\n      <td>Erling Haaland</td>\n      <td>2</td>\n      <td>Norway</td>\n    </tr>\n    <tr>\n      <th>2</th>\n      <td>Kylian Mbappé</td>\n      <td>3</td>\n      <td>France</td>\n    </tr>\n    <tr>\n      <th>3</th>\n      <td>Vinicius Junior</td>\n      <td>4</td>\n      <td>Brazil</td>\n    </tr>\n    <tr>\n      <th>4</th>\n      <td>Bukayo Saka</td>\n      <td>5</td>\n      <td>England</td>\n    </tr>\n  </tbody>\n</table>\n</div>"
     },
     "execution_count": 15,
     "metadata": {},
     "output_type": "execute_result"
    }
   ],
   "source": [
    "#여러개의 컬럼을 보기 위해서는 컬럼명을 리스트로 삽입\n",
    "names=['name','number','nation']\n",
    "df[names].head()"
   ],
   "metadata": {
    "collapsed": false,
    "ExecuteTime": {
     "end_time": "2024-03-12T11:09:25.299665Z",
     "start_time": "2024-03-12T11:09:25.156759Z"
    }
   },
   "id": "b7394ce33bbfc06b",
   "execution_count": 15
  },
  {
   "cell_type": "code",
   "outputs": [
    {
     "data": {
      "text/plain": "    number                 name            position  age     nation  \\\n15      16       Moisés Caicedo  Defensive Midfield   22    Ecuador   \n16      17                Pedri    Central Midfield   21      Spain   \n17      18                 Gavi    Central Midfield   19      Spain   \n18      19    Eduardo Camavinga    Central Midfield   21     France   \n19      20       Julián Álvarez      Second Striker   24  Argentina   \n20      21  Aurélien Tchouaméni  Defensive Midfield   24     France   \n\n               team    value  \n15       Chelsea FC  €90.00m  \n16     FC Barcelona  €90.00m  \n17     FC Barcelona  €90.00m  \n18      Real Madrid  €90.00m  \n19  Manchester City  €90.00m  \n20      Real Madrid  €90.00m  ",
      "text/html": "<div>\n<style scoped>\n    .dataframe tbody tr th:only-of-type {\n        vertical-align: middle;\n    }\n\n    .dataframe tbody tr th {\n        vertical-align: top;\n    }\n\n    .dataframe thead th {\n        text-align: right;\n    }\n</style>\n<table border=\"1\" class=\"dataframe\">\n  <thead>\n    <tr style=\"text-align: right;\">\n      <th></th>\n      <th>number</th>\n      <th>name</th>\n      <th>position</th>\n      <th>age</th>\n      <th>nation</th>\n      <th>team</th>\n      <th>value</th>\n    </tr>\n  </thead>\n  <tbody>\n    <tr>\n      <th>15</th>\n      <td>16</td>\n      <td>Moisés Caicedo</td>\n      <td>Defensive Midfield</td>\n      <td>22</td>\n      <td>Ecuador</td>\n      <td>Chelsea FC</td>\n      <td>€90.00m</td>\n    </tr>\n    <tr>\n      <th>16</th>\n      <td>17</td>\n      <td>Pedri</td>\n      <td>Central Midfield</td>\n      <td>21</td>\n      <td>Spain</td>\n      <td>FC Barcelona</td>\n      <td>€90.00m</td>\n    </tr>\n    <tr>\n      <th>17</th>\n      <td>18</td>\n      <td>Gavi</td>\n      <td>Central Midfield</td>\n      <td>19</td>\n      <td>Spain</td>\n      <td>FC Barcelona</td>\n      <td>€90.00m</td>\n    </tr>\n    <tr>\n      <th>18</th>\n      <td>19</td>\n      <td>Eduardo Camavinga</td>\n      <td>Central Midfield</td>\n      <td>21</td>\n      <td>France</td>\n      <td>Real Madrid</td>\n      <td>€90.00m</td>\n    </tr>\n    <tr>\n      <th>19</th>\n      <td>20</td>\n      <td>Julián Álvarez</td>\n      <td>Second Striker</td>\n      <td>24</td>\n      <td>Argentina</td>\n      <td>Manchester City</td>\n      <td>€90.00m</td>\n    </tr>\n    <tr>\n      <th>20</th>\n      <td>21</td>\n      <td>Aurélien Tchouaméni</td>\n      <td>Defensive Midfield</td>\n      <td>24</td>\n      <td>France</td>\n      <td>Real Madrid</td>\n      <td>€90.00m</td>\n    </tr>\n  </tbody>\n</table>\n</div>"
     },
     "execution_count": 16,
     "metadata": {},
     "output_type": "execute_result"
    }
   ],
   "source": [
    "df[15:21]"
   ],
   "metadata": {
    "collapsed": false,
    "ExecuteTime": {
     "end_time": "2024-03-12T11:09:25.300325Z",
     "start_time": "2024-03-12T11:09:25.161071Z"
    }
   },
   "id": "c58e2c50e276a1e9",
   "execution_count": 16
  },
  {
   "cell_type": "code",
   "outputs": [
    {
     "data": {
      "text/plain": "   number             name            position  age   nation             team  \\\n0       1  Jude Bellingham  Attacking Midfield   20  England      Real Madrid   \n1       2   Erling Haaland      Centre-Forward   23   Norway  Manchester City   \n\n      value  \n0  €180.00m  \n1  €180.00m  ",
      "text/html": "<div>\n<style scoped>\n    .dataframe tbody tr th:only-of-type {\n        vertical-align: middle;\n    }\n\n    .dataframe tbody tr th {\n        vertical-align: top;\n    }\n\n    .dataframe thead th {\n        text-align: right;\n    }\n</style>\n<table border=\"1\" class=\"dataframe\">\n  <thead>\n    <tr style=\"text-align: right;\">\n      <th></th>\n      <th>number</th>\n      <th>name</th>\n      <th>position</th>\n      <th>age</th>\n      <th>nation</th>\n      <th>team</th>\n      <th>value</th>\n    </tr>\n  </thead>\n  <tbody>\n    <tr>\n      <th>0</th>\n      <td>1</td>\n      <td>Jude Bellingham</td>\n      <td>Attacking Midfield</td>\n      <td>20</td>\n      <td>England</td>\n      <td>Real Madrid</td>\n      <td>€180.00m</td>\n    </tr>\n    <tr>\n      <th>1</th>\n      <td>2</td>\n      <td>Erling Haaland</td>\n      <td>Centre-Forward</td>\n      <td>23</td>\n      <td>Norway</td>\n      <td>Manchester City</td>\n      <td>€180.00m</td>\n    </tr>\n  </tbody>\n</table>\n</div>"
     },
     "execution_count": 17,
     "metadata": {},
     "output_type": "execute_result"
    }
   ],
   "source": [
    "# iloc\n",
    "df.iloc[0:2]\n",
    "# df[0:2]와 같다"
   ],
   "metadata": {
    "collapsed": false,
    "ExecuteTime": {
     "end_time": "2024-03-12T11:09:25.301279Z",
     "start_time": "2024-03-12T11:09:25.165543Z"
    }
   },
   "id": "4389e090df3c792f",
   "execution_count": 17
  },
  {
   "cell_type": "code",
   "outputs": [
    {
     "data": {
      "text/plain": "   number             name            position  age   nation  \\\n0       1  Jude Bellingham  Attacking Midfield   20  England   \n1       2   Erling Haaland      Centre-Forward   23   Norway   \n2       3    Kylian Mbappé      Centre-Forward   25   France   \n\n                  team     value  \n0          Real Madrid  €180.00m  \n1      Manchester City  €180.00m  \n2  Paris Saint-Germain  €180.00m  ",
      "text/html": "<div>\n<style scoped>\n    .dataframe tbody tr th:only-of-type {\n        vertical-align: middle;\n    }\n\n    .dataframe tbody tr th {\n        vertical-align: top;\n    }\n\n    .dataframe thead th {\n        text-align: right;\n    }\n</style>\n<table border=\"1\" class=\"dataframe\">\n  <thead>\n    <tr style=\"text-align: right;\">\n      <th></th>\n      <th>number</th>\n      <th>name</th>\n      <th>position</th>\n      <th>age</th>\n      <th>nation</th>\n      <th>team</th>\n      <th>value</th>\n    </tr>\n  </thead>\n  <tbody>\n    <tr>\n      <th>0</th>\n      <td>1</td>\n      <td>Jude Bellingham</td>\n      <td>Attacking Midfield</td>\n      <td>20</td>\n      <td>England</td>\n      <td>Real Madrid</td>\n      <td>€180.00m</td>\n    </tr>\n    <tr>\n      <th>1</th>\n      <td>2</td>\n      <td>Erling Haaland</td>\n      <td>Centre-Forward</td>\n      <td>23</td>\n      <td>Norway</td>\n      <td>Manchester City</td>\n      <td>€180.00m</td>\n    </tr>\n    <tr>\n      <th>2</th>\n      <td>3</td>\n      <td>Kylian Mbappé</td>\n      <td>Centre-Forward</td>\n      <td>25</td>\n      <td>France</td>\n      <td>Paris Saint-Germain</td>\n      <td>€180.00m</td>\n    </tr>\n  </tbody>\n</table>\n</div>"
     },
     "execution_count": 18,
     "metadata": {},
     "output_type": "execute_result"
    }
   ],
   "source": [
    "#마지막 숫자도 포함\n",
    "df.loc[0:2]\n"
   ],
   "metadata": {
    "collapsed": false,
    "ExecuteTime": {
     "end_time": "2024-03-12T11:09:25.301982Z",
     "start_time": "2024-03-12T11:09:25.169700Z"
    }
   },
   "id": "915fcedfd9c54f3d",
   "execution_count": 18
  },
  {
   "cell_type": "code",
   "outputs": [
    {
     "data": {
      "text/plain": "'Jude Bellingham'"
     },
     "execution_count": 19,
     "metadata": {},
     "output_type": "execute_result"
    }
   ],
   "source": [
    "#쉼표 기준으로 행과 열 표시 df.loc[행이름,열이름]\n",
    "df.loc[0,'name']"
   ],
   "metadata": {
    "collapsed": false,
    "ExecuteTime": {
     "end_time": "2024-03-12T11:09:25.302813Z",
     "start_time": "2024-03-12T11:09:25.172599Z"
    }
   },
   "id": "1f3a3b27a2b001e1",
   "execution_count": 19
  },
  {
   "cell_type": "code",
   "outputs": [
    {
     "data": {
      "text/plain": "              name  number   nation     value\n0  Jude Bellingham       1  England  €180.00m\n1   Erling Haaland       2   Norway  €180.00m\n2    Kylian Mbappé       3   France  €180.00m\n3  Vinicius Junior       4   Brazil  €150.00m\n4      Bukayo Saka       5  England  €120.00m\n5    Jamal Musiala       6  Germany  €110.00m",
      "text/html": "<div>\n<style scoped>\n    .dataframe tbody tr th:only-of-type {\n        vertical-align: middle;\n    }\n\n    .dataframe tbody tr th {\n        vertical-align: top;\n    }\n\n    .dataframe thead th {\n        text-align: right;\n    }\n</style>\n<table border=\"1\" class=\"dataframe\">\n  <thead>\n    <tr style=\"text-align: right;\">\n      <th></th>\n      <th>name</th>\n      <th>number</th>\n      <th>nation</th>\n      <th>value</th>\n    </tr>\n  </thead>\n  <tbody>\n    <tr>\n      <th>0</th>\n      <td>Jude Bellingham</td>\n      <td>1</td>\n      <td>England</td>\n      <td>€180.00m</td>\n    </tr>\n    <tr>\n      <th>1</th>\n      <td>Erling Haaland</td>\n      <td>2</td>\n      <td>Norway</td>\n      <td>€180.00m</td>\n    </tr>\n    <tr>\n      <th>2</th>\n      <td>Kylian Mbappé</td>\n      <td>3</td>\n      <td>France</td>\n      <td>€180.00m</td>\n    </tr>\n    <tr>\n      <th>3</th>\n      <td>Vinicius Junior</td>\n      <td>4</td>\n      <td>Brazil</td>\n      <td>€150.00m</td>\n    </tr>\n    <tr>\n      <th>4</th>\n      <td>Bukayo Saka</td>\n      <td>5</td>\n      <td>England</td>\n      <td>€120.00m</td>\n    </tr>\n    <tr>\n      <th>5</th>\n      <td>Jamal Musiala</td>\n      <td>6</td>\n      <td>Germany</td>\n      <td>€110.00m</td>\n    </tr>\n  </tbody>\n</table>\n</div>"
     },
     "execution_count": 20,
     "metadata": {},
     "output_type": "execute_result"
    }
   ],
   "source": [
    "df.loc[0:5,names+['value']]"
   ],
   "metadata": {
    "collapsed": false,
    "ExecuteTime": {
     "end_time": "2024-03-12T11:09:25.314259Z",
     "start_time": "2024-03-12T11:09:25.177580Z"
    }
   },
   "id": "b2724d353d3828ab",
   "execution_count": 20
  },
  {
   "cell_type": "code",
   "outputs": [
    {
     "data": {
      "text/plain": "    number             name            position  age       nation  \\\n0        1  Jude Bellingham  Attacking Midfield   20      England   \n12      13    Florian Wirtz  Attacking Midfield   20      Germany   \n17      18             Gavi    Central Midfield   19        Spain   \n38      39      Xavi Simons  Attacking Midfield   20  Netherlands   \n\n                   team     value  \n0           Real Madrid  €180.00m  \n12  Bayer 04 Leverkusen  €100.00m  \n17         FC Barcelona   €90.00m  \n38           RB Leipzig   €70.00m  ",
      "text/html": "<div>\n<style scoped>\n    .dataframe tbody tr th:only-of-type {\n        vertical-align: middle;\n    }\n\n    .dataframe tbody tr th {\n        vertical-align: top;\n    }\n\n    .dataframe thead th {\n        text-align: right;\n    }\n</style>\n<table border=\"1\" class=\"dataframe\">\n  <thead>\n    <tr style=\"text-align: right;\">\n      <th></th>\n      <th>number</th>\n      <th>name</th>\n      <th>position</th>\n      <th>age</th>\n      <th>nation</th>\n      <th>team</th>\n      <th>value</th>\n    </tr>\n  </thead>\n  <tbody>\n    <tr>\n      <th>0</th>\n      <td>1</td>\n      <td>Jude Bellingham</td>\n      <td>Attacking Midfield</td>\n      <td>20</td>\n      <td>England</td>\n      <td>Real Madrid</td>\n      <td>€180.00m</td>\n    </tr>\n    <tr>\n      <th>12</th>\n      <td>13</td>\n      <td>Florian Wirtz</td>\n      <td>Attacking Midfield</td>\n      <td>20</td>\n      <td>Germany</td>\n      <td>Bayer 04 Leverkusen</td>\n      <td>€100.00m</td>\n    </tr>\n    <tr>\n      <th>17</th>\n      <td>18</td>\n      <td>Gavi</td>\n      <td>Central Midfield</td>\n      <td>19</td>\n      <td>Spain</td>\n      <td>FC Barcelona</td>\n      <td>€90.00m</td>\n    </tr>\n    <tr>\n      <th>38</th>\n      <td>39</td>\n      <td>Xavi Simons</td>\n      <td>Attacking Midfield</td>\n      <td>20</td>\n      <td>Netherlands</td>\n      <td>RB Leipzig</td>\n      <td>€70.00m</td>\n    </tr>\n  </tbody>\n</table>\n</div>"
     },
     "execution_count": 21,
     "metadata": {},
     "output_type": "execute_result"
    }
   ],
   "source": [
    "age20isUnder=df['age']<=20\n",
    "df[age20isUnder]\n"
   ],
   "metadata": {
    "collapsed": false,
    "ExecuteTime": {
     "end_time": "2024-03-12T11:09:25.327682Z",
     "start_time": "2024-03-12T11:09:25.182359Z"
    }
   },
   "id": "69ae5b2e46e1bb87",
   "execution_count": 21
  },
  {
   "cell_type": "code",
   "outputs": [
    {
     "data": {
      "text/plain": "    number                 name            position  age   nation  \\\n0        1      Jude Bellingham  Attacking Midfield   20  England   \n3        4      Vinicius Junior         Left Winger   23   Brazil   \n13      14              Rodrygo        Right Winger   23   Brazil   \n14      15    Federico Valverde    Central Midfield   25  Uruguay   \n18      19    Eduardo Camavinga    Central Midfield   21   France   \n20      21  Aurélien Tchouaméni  Defensive Midfield   24   France   \n42      43         Éder Militão         Centre-Back   26   Brazil   \n\n           team     value  \n0   Real Madrid  €180.00m  \n3   Real Madrid  €150.00m  \n13  Real Madrid  €100.00m  \n14  Real Madrid  €100.00m  \n18  Real Madrid   €90.00m  \n20  Real Madrid   €90.00m  \n42  Real Madrid   €70.00m  ",
      "text/html": "<div>\n<style scoped>\n    .dataframe tbody tr th:only-of-type {\n        vertical-align: middle;\n    }\n\n    .dataframe tbody tr th {\n        vertical-align: top;\n    }\n\n    .dataframe thead th {\n        text-align: right;\n    }\n</style>\n<table border=\"1\" class=\"dataframe\">\n  <thead>\n    <tr style=\"text-align: right;\">\n      <th></th>\n      <th>number</th>\n      <th>name</th>\n      <th>position</th>\n      <th>age</th>\n      <th>nation</th>\n      <th>team</th>\n      <th>value</th>\n    </tr>\n  </thead>\n  <tbody>\n    <tr>\n      <th>0</th>\n      <td>1</td>\n      <td>Jude Bellingham</td>\n      <td>Attacking Midfield</td>\n      <td>20</td>\n      <td>England</td>\n      <td>Real Madrid</td>\n      <td>€180.00m</td>\n    </tr>\n    <tr>\n      <th>3</th>\n      <td>4</td>\n      <td>Vinicius Junior</td>\n      <td>Left Winger</td>\n      <td>23</td>\n      <td>Brazil</td>\n      <td>Real Madrid</td>\n      <td>€150.00m</td>\n    </tr>\n    <tr>\n      <th>13</th>\n      <td>14</td>\n      <td>Rodrygo</td>\n      <td>Right Winger</td>\n      <td>23</td>\n      <td>Brazil</td>\n      <td>Real Madrid</td>\n      <td>€100.00m</td>\n    </tr>\n    <tr>\n      <th>14</th>\n      <td>15</td>\n      <td>Federico Valverde</td>\n      <td>Central Midfield</td>\n      <td>25</td>\n      <td>Uruguay</td>\n      <td>Real Madrid</td>\n      <td>€100.00m</td>\n    </tr>\n    <tr>\n      <th>18</th>\n      <td>19</td>\n      <td>Eduardo Camavinga</td>\n      <td>Central Midfield</td>\n      <td>21</td>\n      <td>France</td>\n      <td>Real Madrid</td>\n      <td>€90.00m</td>\n    </tr>\n    <tr>\n      <th>20</th>\n      <td>21</td>\n      <td>Aurélien Tchouaméni</td>\n      <td>Defensive Midfield</td>\n      <td>24</td>\n      <td>France</td>\n      <td>Real Madrid</td>\n      <td>€90.00m</td>\n    </tr>\n    <tr>\n      <th>42</th>\n      <td>43</td>\n      <td>Éder Militão</td>\n      <td>Centre-Back</td>\n      <td>26</td>\n      <td>Brazil</td>\n      <td>Real Madrid</td>\n      <td>€70.00m</td>\n    </tr>\n  </tbody>\n</table>\n</div>"
     },
     "execution_count": 22,
     "metadata": {},
     "output_type": "execute_result"
    }
   ],
   "source": [
    "df[df['team']=='Real Madrid']"
   ],
   "metadata": {
    "collapsed": false,
    "ExecuteTime": {
     "end_time": "2024-03-12T11:09:25.328747Z",
     "start_time": "2024-03-12T11:09:25.184218Z"
    }
   },
   "id": "231a1898f5f19d21",
   "execution_count": 22
  },
  {
   "cell_type": "code",
   "outputs": [
    {
     "data": {
      "text/plain": "          name     value\n11  Harry Kane  €110.00m",
      "text/html": "<div>\n<style scoped>\n    .dataframe tbody tr th:only-of-type {\n        vertical-align: middle;\n    }\n\n    .dataframe tbody tr th {\n        vertical-align: top;\n    }\n\n    .dataframe thead th {\n        text-align: right;\n    }\n</style>\n<table border=\"1\" class=\"dataframe\">\n  <thead>\n    <tr style=\"text-align: right;\">\n      <th></th>\n      <th>name</th>\n      <th>value</th>\n    </tr>\n  </thead>\n  <tbody>\n    <tr>\n      <th>11</th>\n      <td>Harry Kane</td>\n      <td>€110.00m</td>\n    </tr>\n  </tbody>\n</table>\n</div>"
     },
     "execution_count": 23,
     "metadata": {},
     "output_type": "execute_result"
    }
   ],
   "source": [
    "age30IsUnder=df['age']>=30\n",
    "df.loc[age30IsUnder,['name','value']]\n"
   ],
   "metadata": {
    "collapsed": false,
    "ExecuteTime": {
     "end_time": "2024-03-12T11:09:25.329518Z",
     "start_time": "2024-03-12T11:09:25.191002Z"
    }
   },
   "id": "585710d60d04977b",
   "execution_count": 23
  },
  {
   "cell_type": "markdown",
   "source": [
    "# DateFrame 정렬하기와 컬럼 바꾸기"
   ],
   "metadata": {
    "collapsed": false
   },
   "id": "737416c8b83ddbd9"
  },
  {
   "cell_type": "code",
   "outputs": [
    {
     "data": {
      "text/plain": "   number             name            position  age   nation  \\\n0       1  Jude Bellingham  Attacking Midfield   20  England   \n1       2   Erling Haaland      Centre-Forward   23   Norway   \n2       3    Kylian Mbappé      Centre-Forward   25   France   \n3       4  Vinicius Junior         Left Winger   23   Brazil   \n4       5      Bukayo Saka        Right Winger   22  England   \n\n                  team     value  \n0          Real Madrid  €180.00m  \n1      Manchester City  €180.00m  \n2  Paris Saint-Germain  €180.00m  \n3          Real Madrid  €150.00m  \n4           Arsenal FC  €120.00m  ",
      "text/html": "<div>\n<style scoped>\n    .dataframe tbody tr th:only-of-type {\n        vertical-align: middle;\n    }\n\n    .dataframe tbody tr th {\n        vertical-align: top;\n    }\n\n    .dataframe thead th {\n        text-align: right;\n    }\n</style>\n<table border=\"1\" class=\"dataframe\">\n  <thead>\n    <tr style=\"text-align: right;\">\n      <th></th>\n      <th>number</th>\n      <th>name</th>\n      <th>position</th>\n      <th>age</th>\n      <th>nation</th>\n      <th>team</th>\n      <th>value</th>\n    </tr>\n  </thead>\n  <tbody>\n    <tr>\n      <th>0</th>\n      <td>1</td>\n      <td>Jude Bellingham</td>\n      <td>Attacking Midfield</td>\n      <td>20</td>\n      <td>England</td>\n      <td>Real Madrid</td>\n      <td>€180.00m</td>\n    </tr>\n    <tr>\n      <th>1</th>\n      <td>2</td>\n      <td>Erling Haaland</td>\n      <td>Centre-Forward</td>\n      <td>23</td>\n      <td>Norway</td>\n      <td>Manchester City</td>\n      <td>€180.00m</td>\n    </tr>\n    <tr>\n      <th>2</th>\n      <td>3</td>\n      <td>Kylian Mbappé</td>\n      <td>Centre-Forward</td>\n      <td>25</td>\n      <td>France</td>\n      <td>Paris Saint-Germain</td>\n      <td>€180.00m</td>\n    </tr>\n    <tr>\n      <th>3</th>\n      <td>4</td>\n      <td>Vinicius Junior</td>\n      <td>Left Winger</td>\n      <td>23</td>\n      <td>Brazil</td>\n      <td>Real Madrid</td>\n      <td>€150.00m</td>\n    </tr>\n    <tr>\n      <th>4</th>\n      <td>5</td>\n      <td>Bukayo Saka</td>\n      <td>Right Winger</td>\n      <td>22</td>\n      <td>England</td>\n      <td>Arsenal FC</td>\n      <td>€120.00m</td>\n    </tr>\n  </tbody>\n</table>\n</div>"
     },
     "execution_count": 25,
     "metadata": {},
     "output_type": "execute_result"
    }
   ],
   "source": [
    "df.head()\n",
    "# 인덱스 순으로 정렬\n",
    "df.sort_index().head()"
   ],
   "metadata": {
    "collapsed": false,
    "ExecuteTime": {
     "end_time": "2024-03-12T11:10:03.454303Z",
     "start_time": "2024-03-12T11:10:03.449287Z"
    }
   },
   "id": "16cb539205ac7a2f",
   "execution_count": 25
  },
  {
   "cell_type": "code",
   "outputs": [
    {
     "data": {
      "text/plain": "    number                    name            position  age    nation  \\\n49      50           Jack Grealish         Left Winger   28   England   \n48      49         Bruno Fernandes  Attacking Midfield   29  Portugal   \n47      48         Marcus Rashford         Left Winger   26   England   \n46      47          James Maddison  Attacking Midfield   27   England   \n45      46  Trent Alexander-Arnold          Right-Back   25   England   \n\n                 team    value  \n49    Manchester City  €70.00m  \n48  Manchester United  €70.00m  \n47  Manchester United  €70.00m  \n46  Tottenham Hotspur  €70.00m  \n45       Liverpool FC  €70.00m  ",
      "text/html": "<div>\n<style scoped>\n    .dataframe tbody tr th:only-of-type {\n        vertical-align: middle;\n    }\n\n    .dataframe tbody tr th {\n        vertical-align: top;\n    }\n\n    .dataframe thead th {\n        text-align: right;\n    }\n</style>\n<table border=\"1\" class=\"dataframe\">\n  <thead>\n    <tr style=\"text-align: right;\">\n      <th></th>\n      <th>number</th>\n      <th>name</th>\n      <th>position</th>\n      <th>age</th>\n      <th>nation</th>\n      <th>team</th>\n      <th>value</th>\n    </tr>\n  </thead>\n  <tbody>\n    <tr>\n      <th>49</th>\n      <td>50</td>\n      <td>Jack Grealish</td>\n      <td>Left Winger</td>\n      <td>28</td>\n      <td>England</td>\n      <td>Manchester City</td>\n      <td>€70.00m</td>\n    </tr>\n    <tr>\n      <th>48</th>\n      <td>49</td>\n      <td>Bruno Fernandes</td>\n      <td>Attacking Midfield</td>\n      <td>29</td>\n      <td>Portugal</td>\n      <td>Manchester United</td>\n      <td>€70.00m</td>\n    </tr>\n    <tr>\n      <th>47</th>\n      <td>48</td>\n      <td>Marcus Rashford</td>\n      <td>Left Winger</td>\n      <td>26</td>\n      <td>England</td>\n      <td>Manchester United</td>\n      <td>€70.00m</td>\n    </tr>\n    <tr>\n      <th>46</th>\n      <td>47</td>\n      <td>James Maddison</td>\n      <td>Attacking Midfield</td>\n      <td>27</td>\n      <td>England</td>\n      <td>Tottenham Hotspur</td>\n      <td>€70.00m</td>\n    </tr>\n    <tr>\n      <th>45</th>\n      <td>46</td>\n      <td>Trent Alexander-Arnold</td>\n      <td>Right-Back</td>\n      <td>25</td>\n      <td>England</td>\n      <td>Liverpool FC</td>\n      <td>€70.00m</td>\n    </tr>\n  </tbody>\n</table>\n</div>"
     },
     "execution_count": 26,
     "metadata": {},
     "output_type": "execute_result"
    }
   ],
   "source": [
    "# 내림차순으로 정렬\n",
    "df.sort_index(ascending=False)[:5]"
   ],
   "metadata": {
    "collapsed": false,
    "ExecuteTime": {
     "end_time": "2024-03-12T11:10:47.947416Z",
     "start_time": "2024-03-12T11:10:47.937544Z"
    }
   },
   "id": "1e69782b2502559e",
   "execution_count": 26
  },
  {
   "cell_type": "code",
   "outputs": [
    {
     "data": {
      "text/plain": "    number             name            position  age    nation  \\\n11      12       Harry Kane      Centre-Forward   30   England   \n30      31   Bernardo Silva  Attacking Midfield   29  Portugal   \n48      49  Bruno Fernandes  Attacking Midfield   29  Portugal   \n37      38   Joshua Kimmich  Defensive Midfield   29   Germany   \n49      50    Jack Grealish         Left Winger   28   England   \n\n                 team     value  \n11      Bayern Munich  €110.00m  \n30    Manchester City   €80.00m  \n48  Manchester United   €70.00m  \n37      Bayern Munich   €75.00m  \n49    Manchester City   €70.00m  ",
      "text/html": "<div>\n<style scoped>\n    .dataframe tbody tr th:only-of-type {\n        vertical-align: middle;\n    }\n\n    .dataframe tbody tr th {\n        vertical-align: top;\n    }\n\n    .dataframe thead th {\n        text-align: right;\n    }\n</style>\n<table border=\"1\" class=\"dataframe\">\n  <thead>\n    <tr style=\"text-align: right;\">\n      <th></th>\n      <th>number</th>\n      <th>name</th>\n      <th>position</th>\n      <th>age</th>\n      <th>nation</th>\n      <th>team</th>\n      <th>value</th>\n    </tr>\n  </thead>\n  <tbody>\n    <tr>\n      <th>11</th>\n      <td>12</td>\n      <td>Harry Kane</td>\n      <td>Centre-Forward</td>\n      <td>30</td>\n      <td>England</td>\n      <td>Bayern Munich</td>\n      <td>€110.00m</td>\n    </tr>\n    <tr>\n      <th>30</th>\n      <td>31</td>\n      <td>Bernardo Silva</td>\n      <td>Attacking Midfield</td>\n      <td>29</td>\n      <td>Portugal</td>\n      <td>Manchester City</td>\n      <td>€80.00m</td>\n    </tr>\n    <tr>\n      <th>48</th>\n      <td>49</td>\n      <td>Bruno Fernandes</td>\n      <td>Attacking Midfield</td>\n      <td>29</td>\n      <td>Portugal</td>\n      <td>Manchester United</td>\n      <td>€70.00m</td>\n    </tr>\n    <tr>\n      <th>37</th>\n      <td>38</td>\n      <td>Joshua Kimmich</td>\n      <td>Defensive Midfield</td>\n      <td>29</td>\n      <td>Germany</td>\n      <td>Bayern Munich</td>\n      <td>€75.00m</td>\n    </tr>\n    <tr>\n      <th>49</th>\n      <td>50</td>\n      <td>Jack Grealish</td>\n      <td>Left Winger</td>\n      <td>28</td>\n      <td>England</td>\n      <td>Manchester City</td>\n      <td>€70.00m</td>\n    </tr>\n  </tbody>\n</table>\n</div>"
     },
     "execution_count": 28,
     "metadata": {},
     "output_type": "execute_result"
    }
   ],
   "source": [
    "df.sort_values(\"age\",ascending=False).head()"
   ],
   "metadata": {
    "collapsed": false,
    "ExecuteTime": {
     "end_time": "2024-03-12T11:11:34.092336Z",
     "start_time": "2024-03-12T11:11:34.085950Z"
    }
   },
   "id": "7f52b4e03f322adb",
   "execution_count": 28
  },
  {
   "cell_type": "code",
   "outputs": [
    {
     "data": {
      "text/plain": "                          name            position  age       nation  \\\nnumber                                                                 \n1              Jude Bellingham  Attacking Midfield   20      England   \n2               Erling Haaland      Centre-Forward   23       Norway   \n3                Kylian Mbappé      Centre-Forward   25       France   \n4              Vinicius Junior         Left Winger   23       Brazil   \n5                  Bukayo Saka        Right Winger   22      England   \n6                Jamal Musiala  Attacking Midfield   21      Germany   \n7                   Phil Foden        Right Winger   23      England   \n8             Lautaro Martínez      Centre-Forward   26    Argentina   \n9               Victor Osimhen      Centre-Forward   25      Nigeria   \n10                 Declan Rice  Defensive Midfield   25      England   \n11                       Rodri  Defensive Midfield   27        Spain   \n12                  Harry Kane      Centre-Forward   30      England   \n13               Florian Wirtz  Attacking Midfield   20      Germany   \n14                     Rodrygo        Right Winger   23       Brazil   \n15           Federico Valverde    Central Midfield   25      Uruguay   \n16              Moisés Caicedo  Defensive Midfield   22      Ecuador   \n17                       Pedri    Central Midfield   21        Spain   \n18                        Gavi    Central Midfield   19        Spain   \n19           Eduardo Camavinga    Central Midfield   21       France   \n20              Julián Álvarez      Second Striker   24    Argentina   \n21         Aurélien Tchouaméni  Defensive Midfield   24       France   \n22                 Rafael Leão         Left Winger   24     Portugal   \n23             Martin Ødegaard  Attacking Midfield   25       Norway   \n24          Gabriel Martinelli         Left Winger   22       Brazil   \n25             Bruno Guimarães  Defensive Midfield   26       Brazil   \n26              Enzo Fernández    Central Midfield   23    Argentina   \n27       Khvicha Kvaratskhelia         Left Winger   23      Georgia   \n28              Josko Gvardiol         Centre-Back   22      Croatia   \n29             Frenkie de Jong    Central Midfield   26  Netherlands   \n30                  Rúben Dias         Centre-Back   26     Portugal   \n31              Bernardo Silva  Attacking Midfield   29     Portugal   \n32                  Leroy Sané        Right Winger   28      Germany   \n33              William Saliba         Centre-Back   22       France   \n34                   Luis Díaz         Left Winger   27     Colombia   \n35          Dominik Szoboszlai    Central Midfield   23      Hungary   \n36          Christopher Nkunku  Attacking Midfield   26       France   \n37              Nicolò Barella    Central Midfield   27        Italy   \n38              Joshua Kimmich  Defensive Midfield   29      Germany   \n39                 Xavi Simons  Attacking Midfield   20  Netherlands   \n40           Randal Kolo Muani      Centre-Forward   25       France   \n41               Ronald Araujo         Centre-Back   25      Uruguay   \n42             Alphonso Davies           Left-Back   23       Canada   \n43                Éder Militão         Centre-Back   26       Brazil   \n44               Gabriel Jesus      Centre-Forward   26       Brazil   \n45              Alexander Isak      Centre-Forward   24       Sweden   \n46      Trent Alexander-Arnold          Right-Back   25      England   \n47              James Maddison  Attacking Midfield   27      England   \n48             Marcus Rashford         Left Winger   26      England   \n49             Bruno Fernandes  Attacking Midfield   29     Portugal   \n50               Jack Grealish         Left Winger   28      England   \n\n                       team     value  \nnumber                                 \n1               Real Madrid  €180.00m  \n2           Manchester City  €180.00m  \n3       Paris Saint-Germain  €180.00m  \n4               Real Madrid  €150.00m  \n5                Arsenal FC  €120.00m  \n6             Bayern Munich  €110.00m  \n7           Manchester City  €110.00m  \n8               Inter Milan  €110.00m  \n9                SSC Napoli  €110.00m  \n10               Arsenal FC  €110.00m  \n11          Manchester City  €110.00m  \n12            Bayern Munich  €110.00m  \n13      Bayer 04 Leverkusen  €100.00m  \n14              Real Madrid  €100.00m  \n15              Real Madrid  €100.00m  \n16               Chelsea FC   €90.00m  \n17             FC Barcelona   €90.00m  \n18             FC Barcelona   €90.00m  \n19              Real Madrid   €90.00m  \n20          Manchester City   €90.00m  \n21              Real Madrid   €90.00m  \n22                 AC Milan   €90.00m  \n23               Arsenal FC   €90.00m  \n24               Arsenal FC   €85.00m  \n25         Newcastle United   €85.00m  \n26               Chelsea FC   €80.00m  \n27               SSC Napoli   €80.00m  \n28          Manchester City   €80.00m  \n29             FC Barcelona   €80.00m  \n30          Manchester City   €80.00m  \n31          Manchester City   €80.00m  \n32            Bayern Munich   €80.00m  \n33               Arsenal FC   €75.00m  \n34             Liverpool FC   €75.00m  \n35             Liverpool FC   €75.00m  \n36               Chelsea FC   €75.00m  \n37              Inter Milan   €75.00m  \n38            Bayern Munich   €75.00m  \n39               RB Leipzig   €70.00m  \n40      Paris Saint-Germain   €70.00m  \n41             FC Barcelona   €70.00m  \n42            Bayern Munich   €70.00m  \n43              Real Madrid   €70.00m  \n44               Arsenal FC   €70.00m  \n45         Newcastle United   €70.00m  \n46             Liverpool FC   €70.00m  \n47        Tottenham Hotspur   €70.00m  \n48        Manchester United   €70.00m  \n49        Manchester United   €70.00m  \n50          Manchester City   €70.00m  ",
      "text/html": "<div>\n<style scoped>\n    .dataframe tbody tr th:only-of-type {\n        vertical-align: middle;\n    }\n\n    .dataframe tbody tr th {\n        vertical-align: top;\n    }\n\n    .dataframe thead th {\n        text-align: right;\n    }\n</style>\n<table border=\"1\" class=\"dataframe\">\n  <thead>\n    <tr style=\"text-align: right;\">\n      <th></th>\n      <th>name</th>\n      <th>position</th>\n      <th>age</th>\n      <th>nation</th>\n      <th>team</th>\n      <th>value</th>\n    </tr>\n    <tr>\n      <th>number</th>\n      <th></th>\n      <th></th>\n      <th></th>\n      <th></th>\n      <th></th>\n      <th></th>\n    </tr>\n  </thead>\n  <tbody>\n    <tr>\n      <th>1</th>\n      <td>Jude Bellingham</td>\n      <td>Attacking Midfield</td>\n      <td>20</td>\n      <td>England</td>\n      <td>Real Madrid</td>\n      <td>€180.00m</td>\n    </tr>\n    <tr>\n      <th>2</th>\n      <td>Erling Haaland</td>\n      <td>Centre-Forward</td>\n      <td>23</td>\n      <td>Norway</td>\n      <td>Manchester City</td>\n      <td>€180.00m</td>\n    </tr>\n    <tr>\n      <th>3</th>\n      <td>Kylian Mbappé</td>\n      <td>Centre-Forward</td>\n      <td>25</td>\n      <td>France</td>\n      <td>Paris Saint-Germain</td>\n      <td>€180.00m</td>\n    </tr>\n    <tr>\n      <th>4</th>\n      <td>Vinicius Junior</td>\n      <td>Left Winger</td>\n      <td>23</td>\n      <td>Brazil</td>\n      <td>Real Madrid</td>\n      <td>€150.00m</td>\n    </tr>\n    <tr>\n      <th>5</th>\n      <td>Bukayo Saka</td>\n      <td>Right Winger</td>\n      <td>22</td>\n      <td>England</td>\n      <td>Arsenal FC</td>\n      <td>€120.00m</td>\n    </tr>\n    <tr>\n      <th>6</th>\n      <td>Jamal Musiala</td>\n      <td>Attacking Midfield</td>\n      <td>21</td>\n      <td>Germany</td>\n      <td>Bayern Munich</td>\n      <td>€110.00m</td>\n    </tr>\n    <tr>\n      <th>7</th>\n      <td>Phil Foden</td>\n      <td>Right Winger</td>\n      <td>23</td>\n      <td>England</td>\n      <td>Manchester City</td>\n      <td>€110.00m</td>\n    </tr>\n    <tr>\n      <th>8</th>\n      <td>Lautaro Martínez</td>\n      <td>Centre-Forward</td>\n      <td>26</td>\n      <td>Argentina</td>\n      <td>Inter Milan</td>\n      <td>€110.00m</td>\n    </tr>\n    <tr>\n      <th>9</th>\n      <td>Victor Osimhen</td>\n      <td>Centre-Forward</td>\n      <td>25</td>\n      <td>Nigeria</td>\n      <td>SSC Napoli</td>\n      <td>€110.00m</td>\n    </tr>\n    <tr>\n      <th>10</th>\n      <td>Declan Rice</td>\n      <td>Defensive Midfield</td>\n      <td>25</td>\n      <td>England</td>\n      <td>Arsenal FC</td>\n      <td>€110.00m</td>\n    </tr>\n    <tr>\n      <th>11</th>\n      <td>Rodri</td>\n      <td>Defensive Midfield</td>\n      <td>27</td>\n      <td>Spain</td>\n      <td>Manchester City</td>\n      <td>€110.00m</td>\n    </tr>\n    <tr>\n      <th>12</th>\n      <td>Harry Kane</td>\n      <td>Centre-Forward</td>\n      <td>30</td>\n      <td>England</td>\n      <td>Bayern Munich</td>\n      <td>€110.00m</td>\n    </tr>\n    <tr>\n      <th>13</th>\n      <td>Florian Wirtz</td>\n      <td>Attacking Midfield</td>\n      <td>20</td>\n      <td>Germany</td>\n      <td>Bayer 04 Leverkusen</td>\n      <td>€100.00m</td>\n    </tr>\n    <tr>\n      <th>14</th>\n      <td>Rodrygo</td>\n      <td>Right Winger</td>\n      <td>23</td>\n      <td>Brazil</td>\n      <td>Real Madrid</td>\n      <td>€100.00m</td>\n    </tr>\n    <tr>\n      <th>15</th>\n      <td>Federico Valverde</td>\n      <td>Central Midfield</td>\n      <td>25</td>\n      <td>Uruguay</td>\n      <td>Real Madrid</td>\n      <td>€100.00m</td>\n    </tr>\n    <tr>\n      <th>16</th>\n      <td>Moisés Caicedo</td>\n      <td>Defensive Midfield</td>\n      <td>22</td>\n      <td>Ecuador</td>\n      <td>Chelsea FC</td>\n      <td>€90.00m</td>\n    </tr>\n    <tr>\n      <th>17</th>\n      <td>Pedri</td>\n      <td>Central Midfield</td>\n      <td>21</td>\n      <td>Spain</td>\n      <td>FC Barcelona</td>\n      <td>€90.00m</td>\n    </tr>\n    <tr>\n      <th>18</th>\n      <td>Gavi</td>\n      <td>Central Midfield</td>\n      <td>19</td>\n      <td>Spain</td>\n      <td>FC Barcelona</td>\n      <td>€90.00m</td>\n    </tr>\n    <tr>\n      <th>19</th>\n      <td>Eduardo Camavinga</td>\n      <td>Central Midfield</td>\n      <td>21</td>\n      <td>France</td>\n      <td>Real Madrid</td>\n      <td>€90.00m</td>\n    </tr>\n    <tr>\n      <th>20</th>\n      <td>Julián Álvarez</td>\n      <td>Second Striker</td>\n      <td>24</td>\n      <td>Argentina</td>\n      <td>Manchester City</td>\n      <td>€90.00m</td>\n    </tr>\n    <tr>\n      <th>21</th>\n      <td>Aurélien Tchouaméni</td>\n      <td>Defensive Midfield</td>\n      <td>24</td>\n      <td>France</td>\n      <td>Real Madrid</td>\n      <td>€90.00m</td>\n    </tr>\n    <tr>\n      <th>22</th>\n      <td>Rafael Leão</td>\n      <td>Left Winger</td>\n      <td>24</td>\n      <td>Portugal</td>\n      <td>AC Milan</td>\n      <td>€90.00m</td>\n    </tr>\n    <tr>\n      <th>23</th>\n      <td>Martin Ødegaard</td>\n      <td>Attacking Midfield</td>\n      <td>25</td>\n      <td>Norway</td>\n      <td>Arsenal FC</td>\n      <td>€90.00m</td>\n    </tr>\n    <tr>\n      <th>24</th>\n      <td>Gabriel Martinelli</td>\n      <td>Left Winger</td>\n      <td>22</td>\n      <td>Brazil</td>\n      <td>Arsenal FC</td>\n      <td>€85.00m</td>\n    </tr>\n    <tr>\n      <th>25</th>\n      <td>Bruno Guimarães</td>\n      <td>Defensive Midfield</td>\n      <td>26</td>\n      <td>Brazil</td>\n      <td>Newcastle United</td>\n      <td>€85.00m</td>\n    </tr>\n    <tr>\n      <th>26</th>\n      <td>Enzo Fernández</td>\n      <td>Central Midfield</td>\n      <td>23</td>\n      <td>Argentina</td>\n      <td>Chelsea FC</td>\n      <td>€80.00m</td>\n    </tr>\n    <tr>\n      <th>27</th>\n      <td>Khvicha Kvaratskhelia</td>\n      <td>Left Winger</td>\n      <td>23</td>\n      <td>Georgia</td>\n      <td>SSC Napoli</td>\n      <td>€80.00m</td>\n    </tr>\n    <tr>\n      <th>28</th>\n      <td>Josko Gvardiol</td>\n      <td>Centre-Back</td>\n      <td>22</td>\n      <td>Croatia</td>\n      <td>Manchester City</td>\n      <td>€80.00m</td>\n    </tr>\n    <tr>\n      <th>29</th>\n      <td>Frenkie de Jong</td>\n      <td>Central Midfield</td>\n      <td>26</td>\n      <td>Netherlands</td>\n      <td>FC Barcelona</td>\n      <td>€80.00m</td>\n    </tr>\n    <tr>\n      <th>30</th>\n      <td>Rúben Dias</td>\n      <td>Centre-Back</td>\n      <td>26</td>\n      <td>Portugal</td>\n      <td>Manchester City</td>\n      <td>€80.00m</td>\n    </tr>\n    <tr>\n      <th>31</th>\n      <td>Bernardo Silva</td>\n      <td>Attacking Midfield</td>\n      <td>29</td>\n      <td>Portugal</td>\n      <td>Manchester City</td>\n      <td>€80.00m</td>\n    </tr>\n    <tr>\n      <th>32</th>\n      <td>Leroy Sané</td>\n      <td>Right Winger</td>\n      <td>28</td>\n      <td>Germany</td>\n      <td>Bayern Munich</td>\n      <td>€80.00m</td>\n    </tr>\n    <tr>\n      <th>33</th>\n      <td>William Saliba</td>\n      <td>Centre-Back</td>\n      <td>22</td>\n      <td>France</td>\n      <td>Arsenal FC</td>\n      <td>€75.00m</td>\n    </tr>\n    <tr>\n      <th>34</th>\n      <td>Luis Díaz</td>\n      <td>Left Winger</td>\n      <td>27</td>\n      <td>Colombia</td>\n      <td>Liverpool FC</td>\n      <td>€75.00m</td>\n    </tr>\n    <tr>\n      <th>35</th>\n      <td>Dominik Szoboszlai</td>\n      <td>Central Midfield</td>\n      <td>23</td>\n      <td>Hungary</td>\n      <td>Liverpool FC</td>\n      <td>€75.00m</td>\n    </tr>\n    <tr>\n      <th>36</th>\n      <td>Christopher Nkunku</td>\n      <td>Attacking Midfield</td>\n      <td>26</td>\n      <td>France</td>\n      <td>Chelsea FC</td>\n      <td>€75.00m</td>\n    </tr>\n    <tr>\n      <th>37</th>\n      <td>Nicolò Barella</td>\n      <td>Central Midfield</td>\n      <td>27</td>\n      <td>Italy</td>\n      <td>Inter Milan</td>\n      <td>€75.00m</td>\n    </tr>\n    <tr>\n      <th>38</th>\n      <td>Joshua Kimmich</td>\n      <td>Defensive Midfield</td>\n      <td>29</td>\n      <td>Germany</td>\n      <td>Bayern Munich</td>\n      <td>€75.00m</td>\n    </tr>\n    <tr>\n      <th>39</th>\n      <td>Xavi Simons</td>\n      <td>Attacking Midfield</td>\n      <td>20</td>\n      <td>Netherlands</td>\n      <td>RB Leipzig</td>\n      <td>€70.00m</td>\n    </tr>\n    <tr>\n      <th>40</th>\n      <td>Randal Kolo Muani</td>\n      <td>Centre-Forward</td>\n      <td>25</td>\n      <td>France</td>\n      <td>Paris Saint-Germain</td>\n      <td>€70.00m</td>\n    </tr>\n    <tr>\n      <th>41</th>\n      <td>Ronald Araujo</td>\n      <td>Centre-Back</td>\n      <td>25</td>\n      <td>Uruguay</td>\n      <td>FC Barcelona</td>\n      <td>€70.00m</td>\n    </tr>\n    <tr>\n      <th>42</th>\n      <td>Alphonso Davies</td>\n      <td>Left-Back</td>\n      <td>23</td>\n      <td>Canada</td>\n      <td>Bayern Munich</td>\n      <td>€70.00m</td>\n    </tr>\n    <tr>\n      <th>43</th>\n      <td>Éder Militão</td>\n      <td>Centre-Back</td>\n      <td>26</td>\n      <td>Brazil</td>\n      <td>Real Madrid</td>\n      <td>€70.00m</td>\n    </tr>\n    <tr>\n      <th>44</th>\n      <td>Gabriel Jesus</td>\n      <td>Centre-Forward</td>\n      <td>26</td>\n      <td>Brazil</td>\n      <td>Arsenal FC</td>\n      <td>€70.00m</td>\n    </tr>\n    <tr>\n      <th>45</th>\n      <td>Alexander Isak</td>\n      <td>Centre-Forward</td>\n      <td>24</td>\n      <td>Sweden</td>\n      <td>Newcastle United</td>\n      <td>€70.00m</td>\n    </tr>\n    <tr>\n      <th>46</th>\n      <td>Trent Alexander-Arnold</td>\n      <td>Right-Back</td>\n      <td>25</td>\n      <td>England</td>\n      <td>Liverpool FC</td>\n      <td>€70.00m</td>\n    </tr>\n    <tr>\n      <th>47</th>\n      <td>James Maddison</td>\n      <td>Attacking Midfield</td>\n      <td>27</td>\n      <td>England</td>\n      <td>Tottenham Hotspur</td>\n      <td>€70.00m</td>\n    </tr>\n    <tr>\n      <th>48</th>\n      <td>Marcus Rashford</td>\n      <td>Left Winger</td>\n      <td>26</td>\n      <td>England</td>\n      <td>Manchester United</td>\n      <td>€70.00m</td>\n    </tr>\n    <tr>\n      <th>49</th>\n      <td>Bruno Fernandes</td>\n      <td>Attacking Midfield</td>\n      <td>29</td>\n      <td>Portugal</td>\n      <td>Manchester United</td>\n      <td>€70.00m</td>\n    </tr>\n    <tr>\n      <th>50</th>\n      <td>Jack Grealish</td>\n      <td>Left Winger</td>\n      <td>28</td>\n      <td>England</td>\n      <td>Manchester City</td>\n      <td>€70.00m</td>\n    </tr>\n  </tbody>\n</table>\n</div>"
     },
     "execution_count": 30,
     "metadata": {},
     "output_type": "execute_result"
    }
   ],
   "source": [
    "# 인덱스를 컬럼명으로 바꾸기\n",
    "df.set_index('number')"
   ],
   "metadata": {
    "collapsed": false,
    "ExecuteTime": {
     "end_time": "2024-03-12T11:12:15.282998Z",
     "start_time": "2024-03-12T11:12:15.279114Z"
    }
   },
   "id": "42ba4ea384ac1f26",
   "execution_count": 30
  },
  {
   "cell_type": "code",
   "outputs": [],
   "source": [
    "df.rename(columns={'team':'club'},inplace=True)"
   ],
   "metadata": {
    "collapsed": false,
    "ExecuteTime": {
     "end_time": "2024-03-12T11:14:03.227545Z",
     "start_time": "2024-03-12T11:14:03.224156Z"
    }
   },
   "id": "2cbd5b014403480",
   "execution_count": 33
  },
  {
   "cell_type": "code",
   "outputs": [
    {
     "data": {
      "text/plain": "   number             name            position  age   nation  \\\n0       1  Jude Bellingham  Attacking Midfield   20  England   \n1       2   Erling Haaland      Centre-Forward   23   Norway   \n2       3    Kylian Mbappé      Centre-Forward   25   France   \n3       4  Vinicius Junior         Left Winger   23   Brazil   \n4       5      Bukayo Saka        Right Winger   22  England   \n\n                  club     value  \n0          Real Madrid  €180.00m  \n1      Manchester City  €180.00m  \n2  Paris Saint-Germain  €180.00m  \n3          Real Madrid  €150.00m  \n4           Arsenal FC  €120.00m  ",
      "text/html": "<div>\n<style scoped>\n    .dataframe tbody tr th:only-of-type {\n        vertical-align: middle;\n    }\n\n    .dataframe tbody tr th {\n        vertical-align: top;\n    }\n\n    .dataframe thead th {\n        text-align: right;\n    }\n</style>\n<table border=\"1\" class=\"dataframe\">\n  <thead>\n    <tr style=\"text-align: right;\">\n      <th></th>\n      <th>number</th>\n      <th>name</th>\n      <th>position</th>\n      <th>age</th>\n      <th>nation</th>\n      <th>club</th>\n      <th>value</th>\n    </tr>\n  </thead>\n  <tbody>\n    <tr>\n      <th>0</th>\n      <td>1</td>\n      <td>Jude Bellingham</td>\n      <td>Attacking Midfield</td>\n      <td>20</td>\n      <td>England</td>\n      <td>Real Madrid</td>\n      <td>€180.00m</td>\n    </tr>\n    <tr>\n      <th>1</th>\n      <td>2</td>\n      <td>Erling Haaland</td>\n      <td>Centre-Forward</td>\n      <td>23</td>\n      <td>Norway</td>\n      <td>Manchester City</td>\n      <td>€180.00m</td>\n    </tr>\n    <tr>\n      <th>2</th>\n      <td>3</td>\n      <td>Kylian Mbappé</td>\n      <td>Centre-Forward</td>\n      <td>25</td>\n      <td>France</td>\n      <td>Paris Saint-Germain</td>\n      <td>€180.00m</td>\n    </tr>\n    <tr>\n      <th>3</th>\n      <td>4</td>\n      <td>Vinicius Junior</td>\n      <td>Left Winger</td>\n      <td>23</td>\n      <td>Brazil</td>\n      <td>Real Madrid</td>\n      <td>€150.00m</td>\n    </tr>\n    <tr>\n      <th>4</th>\n      <td>5</td>\n      <td>Bukayo Saka</td>\n      <td>Right Winger</td>\n      <td>22</td>\n      <td>England</td>\n      <td>Arsenal FC</td>\n      <td>€120.00m</td>\n    </tr>\n  </tbody>\n</table>\n</div>"
     },
     "execution_count": 34,
     "metadata": {},
     "output_type": "execute_result"
    }
   ],
   "source": [
    "df.head()"
   ],
   "metadata": {
    "collapsed": false,
    "ExecuteTime": {
     "end_time": "2024-03-12T11:14:17.161245Z",
     "start_time": "2024-03-12T11:14:17.156254Z"
    }
   },
   "id": "8499bf618dd2d34d",
   "execution_count": 34
  },
  {
   "cell_type": "code",
   "outputs": [
    {
     "name": "stdout",
     "output_type": "stream",
     "text": [
      "<class 'pandas.core.frame.DataFrame'>\n",
      "RangeIndex: 50 entries, 0 to 49\n",
      "Data columns (total 7 columns):\n",
      " #   Column    Non-Null Count  Dtype  \n",
      "---  ------    --------------  -----  \n",
      " 0   number    50 non-null     int64  \n",
      " 1   name      50 non-null     object \n",
      " 2   position  50 non-null     object \n",
      " 3   age       50 non-null     int64  \n",
      " 4   nation    50 non-null     object \n",
      " 5   club      50 non-null     object \n",
      " 6   value     50 non-null     float64\n",
      "dtypes: float64(1), int64(2), object(4)\n",
      "memory usage: 2.9+ KB\n"
     ]
    }
   ],
   "source": [
    "df['value']=df['value'].str.replace('€','')\n",
    "df['value']=df['value'].str.replace('m','').astype(float)\n",
    "df.head()\n",
    "df.info()"
   ],
   "metadata": {
    "collapsed": false,
    "ExecuteTime": {
     "end_time": "2024-03-12T11:17:12.046011Z",
     "start_time": "2024-03-12T11:17:12.033826Z"
    }
   },
   "id": "55a623b3e01917ee",
   "execution_count": 37
  },
  {
   "cell_type": "code",
   "outputs": [
    {
     "data": {
      "text/plain": "   number             name            position  age   nation  \\\n0       1  Jude Bellingham  Attacking Midfield   20  England   \n1       2   Erling Haaland      Centre-Forward   23   Norway   \n2       3    Kylian Mbappé      Centre-Forward   25   France   \n3       4  Vinicius Junior         Left Winger   23   Brazil   \n4       5      Bukayo Saka        Right Winger   22  England   \n\n                  club  value  시장가치(억)  \n0          Real Madrid  180.0   2340.0  \n1      Manchester City  180.0   2340.0  \n2  Paris Saint-Germain  180.0   2340.0  \n3          Real Madrid  150.0   1950.0  \n4           Arsenal FC  120.0   1560.0  ",
      "text/html": "<div>\n<style scoped>\n    .dataframe tbody tr th:only-of-type {\n        vertical-align: middle;\n    }\n\n    .dataframe tbody tr th {\n        vertical-align: top;\n    }\n\n    .dataframe thead th {\n        text-align: right;\n    }\n</style>\n<table border=\"1\" class=\"dataframe\">\n  <thead>\n    <tr style=\"text-align: right;\">\n      <th></th>\n      <th>number</th>\n      <th>name</th>\n      <th>position</th>\n      <th>age</th>\n      <th>nation</th>\n      <th>club</th>\n      <th>value</th>\n      <th>시장가치(억)</th>\n    </tr>\n  </thead>\n  <tbody>\n    <tr>\n      <th>0</th>\n      <td>1</td>\n      <td>Jude Bellingham</td>\n      <td>Attacking Midfield</td>\n      <td>20</td>\n      <td>England</td>\n      <td>Real Madrid</td>\n      <td>180.0</td>\n      <td>2340.0</td>\n    </tr>\n    <tr>\n      <th>1</th>\n      <td>2</td>\n      <td>Erling Haaland</td>\n      <td>Centre-Forward</td>\n      <td>23</td>\n      <td>Norway</td>\n      <td>Manchester City</td>\n      <td>180.0</td>\n      <td>2340.0</td>\n    </tr>\n    <tr>\n      <th>2</th>\n      <td>3</td>\n      <td>Kylian Mbappé</td>\n      <td>Centre-Forward</td>\n      <td>25</td>\n      <td>France</td>\n      <td>Paris Saint-Germain</td>\n      <td>180.0</td>\n      <td>2340.0</td>\n    </tr>\n    <tr>\n      <th>3</th>\n      <td>4</td>\n      <td>Vinicius Junior</td>\n      <td>Left Winger</td>\n      <td>23</td>\n      <td>Brazil</td>\n      <td>Real Madrid</td>\n      <td>150.0</td>\n      <td>1950.0</td>\n    </tr>\n    <tr>\n      <th>4</th>\n      <td>5</td>\n      <td>Bukayo Saka</td>\n      <td>Right Winger</td>\n      <td>22</td>\n      <td>England</td>\n      <td>Arsenal FC</td>\n      <td>120.0</td>\n      <td>1560.0</td>\n    </tr>\n  </tbody>\n</table>\n</div>"
     },
     "execution_count": 38,
     "metadata": {},
     "output_type": "execute_result"
    }
   ],
   "source": [
    "df['시장가치(억)']=df['value']*13\n",
    "df.head()"
   ],
   "metadata": {
    "collapsed": false,
    "ExecuteTime": {
     "end_time": "2024-03-12T11:18:10.554446Z",
     "start_time": "2024-03-12T11:18:10.548416Z"
    }
   },
   "id": "ebd9a68d05ea7271",
   "execution_count": 38
  },
  {
   "cell_type": "code",
   "outputs": [
    {
     "data": {
      "text/plain": "   number             name            position  age   nation  \\\n0       1  Jude Bellingham  Attacking Midfield   20  England   \n1       2   Erling Haaland      Centre-Forward   23   Norway   \n2       3    Kylian Mbappé      Centre-Forward   25   France   \n3       4  Vinicius Junior         Left Winger   23   Brazil   \n4       5      Bukayo Saka        Right Winger   22  England   \n\n                  club  시장가치(억)  \n0          Real Madrid   2340.0  \n1      Manchester City   2340.0  \n2  Paris Saint-Germain   2340.0  \n3          Real Madrid   1950.0  \n4           Arsenal FC   1560.0  ",
      "text/html": "<div>\n<style scoped>\n    .dataframe tbody tr th:only-of-type {\n        vertical-align: middle;\n    }\n\n    .dataframe tbody tr th {\n        vertical-align: top;\n    }\n\n    .dataframe thead th {\n        text-align: right;\n    }\n</style>\n<table border=\"1\" class=\"dataframe\">\n  <thead>\n    <tr style=\"text-align: right;\">\n      <th></th>\n      <th>number</th>\n      <th>name</th>\n      <th>position</th>\n      <th>age</th>\n      <th>nation</th>\n      <th>club</th>\n      <th>시장가치(억)</th>\n    </tr>\n  </thead>\n  <tbody>\n    <tr>\n      <th>0</th>\n      <td>1</td>\n      <td>Jude Bellingham</td>\n      <td>Attacking Midfield</td>\n      <td>20</td>\n      <td>England</td>\n      <td>Real Madrid</td>\n      <td>2340.0</td>\n    </tr>\n    <tr>\n      <th>1</th>\n      <td>2</td>\n      <td>Erling Haaland</td>\n      <td>Centre-Forward</td>\n      <td>23</td>\n      <td>Norway</td>\n      <td>Manchester City</td>\n      <td>2340.0</td>\n    </tr>\n    <tr>\n      <th>2</th>\n      <td>3</td>\n      <td>Kylian Mbappé</td>\n      <td>Centre-Forward</td>\n      <td>25</td>\n      <td>France</td>\n      <td>Paris Saint-Germain</td>\n      <td>2340.0</td>\n    </tr>\n    <tr>\n      <th>3</th>\n      <td>4</td>\n      <td>Vinicius Junior</td>\n      <td>Left Winger</td>\n      <td>23</td>\n      <td>Brazil</td>\n      <td>Real Madrid</td>\n      <td>1950.0</td>\n    </tr>\n    <tr>\n      <th>4</th>\n      <td>5</td>\n      <td>Bukayo Saka</td>\n      <td>Right Winger</td>\n      <td>22</td>\n      <td>England</td>\n      <td>Arsenal FC</td>\n      <td>1560.0</td>\n    </tr>\n  </tbody>\n</table>\n</div>"
     },
     "execution_count": 39,
     "metadata": {},
     "output_type": "execute_result"
    }
   ],
   "source": [
    "df.drop(columns=['value'],inplace=True)\n",
    "df.head()"
   ],
   "metadata": {
    "collapsed": false,
    "ExecuteTime": {
     "end_time": "2024-03-12T11:19:11.487155Z",
     "start_time": "2024-03-12T11:19:11.475403Z"
    }
   },
   "id": "9ac49166ecbd42a5",
   "execution_count": 39
  },
  {
   "cell_type": "markdown",
   "source": [
    "# DataFrame 통계분석과 groupby"
   ],
   "metadata": {
    "collapsed": false
   },
   "id": "d2eb3470aa018566"
  },
  {
   "cell_type": "code",
   "outputs": [
    {
     "data": {
      "text/plain": "         number        age      시장가치(억)\ncount  50.00000  50.000000    50.000000\nmean   25.50000  24.420000  1201.200000\nstd    14.57738   2.627096   364.454527\nmin     1.00000  19.000000   910.000000\n25%    13.25000  23.000000   975.000000\n50%    25.50000  25.000000  1072.500000\n75%    37.75000  26.000000  1300.000000\nmax    50.00000  30.000000  2340.000000",
      "text/html": "<div>\n<style scoped>\n    .dataframe tbody tr th:only-of-type {\n        vertical-align: middle;\n    }\n\n    .dataframe tbody tr th {\n        vertical-align: top;\n    }\n\n    .dataframe thead th {\n        text-align: right;\n    }\n</style>\n<table border=\"1\" class=\"dataframe\">\n  <thead>\n    <tr style=\"text-align: right;\">\n      <th></th>\n      <th>number</th>\n      <th>age</th>\n      <th>시장가치(억)</th>\n    </tr>\n  </thead>\n  <tbody>\n    <tr>\n      <th>count</th>\n      <td>50.00000</td>\n      <td>50.000000</td>\n      <td>50.000000</td>\n    </tr>\n    <tr>\n      <th>mean</th>\n      <td>25.50000</td>\n      <td>24.420000</td>\n      <td>1201.200000</td>\n    </tr>\n    <tr>\n      <th>std</th>\n      <td>14.57738</td>\n      <td>2.627096</td>\n      <td>364.454527</td>\n    </tr>\n    <tr>\n      <th>min</th>\n      <td>1.00000</td>\n      <td>19.000000</td>\n      <td>910.000000</td>\n    </tr>\n    <tr>\n      <th>25%</th>\n      <td>13.25000</td>\n      <td>23.000000</td>\n      <td>975.000000</td>\n    </tr>\n    <tr>\n      <th>50%</th>\n      <td>25.50000</td>\n      <td>25.000000</td>\n      <td>1072.500000</td>\n    </tr>\n    <tr>\n      <th>75%</th>\n      <td>37.75000</td>\n      <td>26.000000</td>\n      <td>1300.000000</td>\n    </tr>\n    <tr>\n      <th>max</th>\n      <td>50.00000</td>\n      <td>30.000000</td>\n      <td>2340.000000</td>\n    </tr>\n  </tbody>\n</table>\n</div>"
     },
     "execution_count": 40,
     "metadata": {},
     "output_type": "execute_result"
    }
   ],
   "source": [
    "# 숫자형 데이터의 통계\n",
    "df.describe()"
   ],
   "metadata": {
    "collapsed": false,
    "ExecuteTime": {
     "end_time": "2024-03-13T11:15:19.112381Z",
     "start_time": "2024-03-13T11:15:19.101096Z"
    }
   },
   "id": "751d001bfd00319f",
   "execution_count": 40
  },
  {
   "cell_type": "code",
   "outputs": [
    {
     "data": {
      "text/plain": "24.42"
     },
     "execution_count": 41,
     "metadata": {},
     "output_type": "execute_result"
    }
   ],
   "source": [
    "# 컬럼의 평균\n",
    "df['age'].mean()"
   ],
   "metadata": {
    "collapsed": false,
    "ExecuteTime": {
     "end_time": "2024-03-13T11:16:34.402214Z",
     "start_time": "2024-03-13T11:16:34.393584Z"
    }
   },
   "id": "3f35ef3850921e4f",
   "execution_count": 41
  },
  {
   "cell_type": "code",
   "outputs": [
    {
     "data": {
      "text/plain": "60060.0"
     },
     "execution_count": 42,
     "metadata": {},
     "output_type": "execute_result"
    }
   ],
   "source": [
    "# 합계 구하기\n",
    "df['시장가치(억)'].sum()"
   ],
   "metadata": {
    "collapsed": false,
    "ExecuteTime": {
     "end_time": "2024-03-13T11:17:06.226758Z",
     "start_time": "2024-03-13T11:17:06.219021Z"
    }
   },
   "id": "4688eab4d9db633a",
   "execution_count": 42
  },
  {
   "cell_type": "code",
   "outputs": [
    {
     "data": {
      "text/plain": "0    England\nName: nation, dtype: object"
     },
     "execution_count": 43,
     "metadata": {},
     "output_type": "execute_result"
    }
   ],
   "source": [
    "# 최빈값 ex) 선수들이 속한 가장 많은 나라?\n",
    "df['nation'].mode()"
   ],
   "metadata": {
    "collapsed": false,
    "ExecuteTime": {
     "end_time": "2024-03-13T11:18:00.761268Z",
     "start_time": "2024-03-13T11:18:00.748561Z"
    }
   },
   "id": "7898d15349df3e59",
   "execution_count": 43
  },
  {
   "cell_type": "code",
   "outputs": [
    {
     "data": {
      "text/plain": "    number                    name            position  age   nation  \\\n0        1         Jude Bellingham  Attacking Midfield   20  England   \n4        5             Bukayo Saka        Right Winger   22  England   \n6        7              Phil Foden        Right Winger   23  England   \n9       10             Declan Rice  Defensive Midfield   25  England   \n11      12              Harry Kane      Centre-Forward   30  England   \n45      46  Trent Alexander-Arnold          Right-Back   25  England   \n46      47          James Maddison  Attacking Midfield   27  England   \n47      48         Marcus Rashford         Left Winger   26  England   \n49      50           Jack Grealish         Left Winger   28  England   \n\n                 club  시장가치(억)  \n0         Real Madrid   2340.0  \n4          Arsenal FC   1560.0  \n6     Manchester City   1430.0  \n9          Arsenal FC   1430.0  \n11      Bayern Munich   1430.0  \n45       Liverpool FC    910.0  \n46  Tottenham Hotspur    910.0  \n47  Manchester United    910.0  \n49    Manchester City    910.0  ",
      "text/html": "<div>\n<style scoped>\n    .dataframe tbody tr th:only-of-type {\n        vertical-align: middle;\n    }\n\n    .dataframe tbody tr th {\n        vertical-align: top;\n    }\n\n    .dataframe thead th {\n        text-align: right;\n    }\n</style>\n<table border=\"1\" class=\"dataframe\">\n  <thead>\n    <tr style=\"text-align: right;\">\n      <th></th>\n      <th>number</th>\n      <th>name</th>\n      <th>position</th>\n      <th>age</th>\n      <th>nation</th>\n      <th>club</th>\n      <th>시장가치(억)</th>\n    </tr>\n  </thead>\n  <tbody>\n    <tr>\n      <th>0</th>\n      <td>1</td>\n      <td>Jude Bellingham</td>\n      <td>Attacking Midfield</td>\n      <td>20</td>\n      <td>England</td>\n      <td>Real Madrid</td>\n      <td>2340.0</td>\n    </tr>\n    <tr>\n      <th>4</th>\n      <td>5</td>\n      <td>Bukayo Saka</td>\n      <td>Right Winger</td>\n      <td>22</td>\n      <td>England</td>\n      <td>Arsenal FC</td>\n      <td>1560.0</td>\n    </tr>\n    <tr>\n      <th>6</th>\n      <td>7</td>\n      <td>Phil Foden</td>\n      <td>Right Winger</td>\n      <td>23</td>\n      <td>England</td>\n      <td>Manchester City</td>\n      <td>1430.0</td>\n    </tr>\n    <tr>\n      <th>9</th>\n      <td>10</td>\n      <td>Declan Rice</td>\n      <td>Defensive Midfield</td>\n      <td>25</td>\n      <td>England</td>\n      <td>Arsenal FC</td>\n      <td>1430.0</td>\n    </tr>\n    <tr>\n      <th>11</th>\n      <td>12</td>\n      <td>Harry Kane</td>\n      <td>Centre-Forward</td>\n      <td>30</td>\n      <td>England</td>\n      <td>Bayern Munich</td>\n      <td>1430.0</td>\n    </tr>\n    <tr>\n      <th>45</th>\n      <td>46</td>\n      <td>Trent Alexander-Arnold</td>\n      <td>Right-Back</td>\n      <td>25</td>\n      <td>England</td>\n      <td>Liverpool FC</td>\n      <td>910.0</td>\n    </tr>\n    <tr>\n      <th>46</th>\n      <td>47</td>\n      <td>James Maddison</td>\n      <td>Attacking Midfield</td>\n      <td>27</td>\n      <td>England</td>\n      <td>Tottenham Hotspur</td>\n      <td>910.0</td>\n    </tr>\n    <tr>\n      <th>47</th>\n      <td>48</td>\n      <td>Marcus Rashford</td>\n      <td>Left Winger</td>\n      <td>26</td>\n      <td>England</td>\n      <td>Manchester United</td>\n      <td>910.0</td>\n    </tr>\n    <tr>\n      <th>49</th>\n      <td>50</td>\n      <td>Jack Grealish</td>\n      <td>Left Winger</td>\n      <td>28</td>\n      <td>England</td>\n      <td>Manchester City</td>\n      <td>910.0</td>\n    </tr>\n  </tbody>\n</table>\n</div>"
     },
     "execution_count": 44,
     "metadata": {},
     "output_type": "execute_result"
    }
   ],
   "source": [
    "# 국적이 England 인 선수들은?\n",
    "df[df['nation']=='England']"
   ],
   "metadata": {
    "collapsed": false,
    "ExecuteTime": {
     "end_time": "2024-03-13T11:18:41.287581Z",
     "start_time": "2024-03-13T11:18:41.273870Z"
    }
   },
   "id": "7716404025bde110",
   "execution_count": 44
  },
  {
   "cell_type": "code",
   "outputs": [
    {
     "data": {
      "text/plain": "<pandas.core.groupby.generic.DataFrameGroupBy object at 0x13ef2cf90>"
     },
     "execution_count": 46,
     "metadata": {},
     "output_type": "execute_result"
    }
   ],
   "source": [
    "# 데이터를 그룹으로 묶어 분석\n",
    "df.groupby('nation')"
   ],
   "metadata": {
    "collapsed": false,
    "ExecuteTime": {
     "end_time": "2024-03-13T11:19:55.540996Z",
     "start_time": "2024-03-13T11:19:55.534936Z"
    }
   },
   "id": "cb9d0d9d926ede17",
   "execution_count": 46
  },
  {
   "cell_type": "code",
   "outputs": [
    {
     "data": {
      "text/plain": "nation\nArgentina      3\nBrazil         6\nCanada         1\nColombia       1\nCroatia        1\nEcuador        1\nEngland        9\nFrance         6\nGeorgia        1\nGermany        4\nHungary        1\nItaly          1\nNetherlands    2\nNigeria        1\nNorway         2\nPortugal       4\nSpain          3\nSweden         1\nUruguay        2\ndtype: int64"
     },
     "execution_count": 47,
     "metadata": {},
     "output_type": "execute_result"
    }
   ],
   "source": [
    "g=df.groupby('nation')\n",
    "g.size()"
   ],
   "metadata": {
    "collapsed": false,
    "ExecuteTime": {
     "end_time": "2024-03-13T11:20:17.462475Z",
     "start_time": "2024-03-13T11:20:17.445730Z"
    }
   },
   "id": "c666556a494dd480",
   "execution_count": 47
  },
  {
   "cell_type": "code",
   "outputs": [
    {
     "data": {
      "text/plain": "             number  name  position  age  club  시장가치(억)\nnation                                                 \nArgentina         3     3         3    3     3        3\nBrazil            6     6         6    6     6        6\nCanada            1     1         1    1     1        1\nColombia          1     1         1    1     1        1\nCroatia           1     1         1    1     1        1\nEcuador           1     1         1    1     1        1\nEngland           9     9         9    9     9        9\nFrance            6     6         6    6     6        6\nGeorgia           1     1         1    1     1        1\nGermany           4     4         4    4     4        4\nHungary           1     1         1    1     1        1\nItaly             1     1         1    1     1        1\nNetherlands       2     2         2    2     2        2\nNigeria           1     1         1    1     1        1\nNorway            2     2         2    2     2        2\nPortugal          4     4         4    4     4        4\nSpain             3     3         3    3     3        3\nSweden            1     1         1    1     1        1\nUruguay           2     2         2    2     2        2",
      "text/html": "<div>\n<style scoped>\n    .dataframe tbody tr th:only-of-type {\n        vertical-align: middle;\n    }\n\n    .dataframe tbody tr th {\n        vertical-align: top;\n    }\n\n    .dataframe thead th {\n        text-align: right;\n    }\n</style>\n<table border=\"1\" class=\"dataframe\">\n  <thead>\n    <tr style=\"text-align: right;\">\n      <th></th>\n      <th>number</th>\n      <th>name</th>\n      <th>position</th>\n      <th>age</th>\n      <th>club</th>\n      <th>시장가치(억)</th>\n    </tr>\n    <tr>\n      <th>nation</th>\n      <th></th>\n      <th></th>\n      <th></th>\n      <th></th>\n      <th></th>\n      <th></th>\n    </tr>\n  </thead>\n  <tbody>\n    <tr>\n      <th>Argentina</th>\n      <td>3</td>\n      <td>3</td>\n      <td>3</td>\n      <td>3</td>\n      <td>3</td>\n      <td>3</td>\n    </tr>\n    <tr>\n      <th>Brazil</th>\n      <td>6</td>\n      <td>6</td>\n      <td>6</td>\n      <td>6</td>\n      <td>6</td>\n      <td>6</td>\n    </tr>\n    <tr>\n      <th>Canada</th>\n      <td>1</td>\n      <td>1</td>\n      <td>1</td>\n      <td>1</td>\n      <td>1</td>\n      <td>1</td>\n    </tr>\n    <tr>\n      <th>Colombia</th>\n      <td>1</td>\n      <td>1</td>\n      <td>1</td>\n      <td>1</td>\n      <td>1</td>\n      <td>1</td>\n    </tr>\n    <tr>\n      <th>Croatia</th>\n      <td>1</td>\n      <td>1</td>\n      <td>1</td>\n      <td>1</td>\n      <td>1</td>\n      <td>1</td>\n    </tr>\n    <tr>\n      <th>Ecuador</th>\n      <td>1</td>\n      <td>1</td>\n      <td>1</td>\n      <td>1</td>\n      <td>1</td>\n      <td>1</td>\n    </tr>\n    <tr>\n      <th>England</th>\n      <td>9</td>\n      <td>9</td>\n      <td>9</td>\n      <td>9</td>\n      <td>9</td>\n      <td>9</td>\n    </tr>\n    <tr>\n      <th>France</th>\n      <td>6</td>\n      <td>6</td>\n      <td>6</td>\n      <td>6</td>\n      <td>6</td>\n      <td>6</td>\n    </tr>\n    <tr>\n      <th>Georgia</th>\n      <td>1</td>\n      <td>1</td>\n      <td>1</td>\n      <td>1</td>\n      <td>1</td>\n      <td>1</td>\n    </tr>\n    <tr>\n      <th>Germany</th>\n      <td>4</td>\n      <td>4</td>\n      <td>4</td>\n      <td>4</td>\n      <td>4</td>\n      <td>4</td>\n    </tr>\n    <tr>\n      <th>Hungary</th>\n      <td>1</td>\n      <td>1</td>\n      <td>1</td>\n      <td>1</td>\n      <td>1</td>\n      <td>1</td>\n    </tr>\n    <tr>\n      <th>Italy</th>\n      <td>1</td>\n      <td>1</td>\n      <td>1</td>\n      <td>1</td>\n      <td>1</td>\n      <td>1</td>\n    </tr>\n    <tr>\n      <th>Netherlands</th>\n      <td>2</td>\n      <td>2</td>\n      <td>2</td>\n      <td>2</td>\n      <td>2</td>\n      <td>2</td>\n    </tr>\n    <tr>\n      <th>Nigeria</th>\n      <td>1</td>\n      <td>1</td>\n      <td>1</td>\n      <td>1</td>\n      <td>1</td>\n      <td>1</td>\n    </tr>\n    <tr>\n      <th>Norway</th>\n      <td>2</td>\n      <td>2</td>\n      <td>2</td>\n      <td>2</td>\n      <td>2</td>\n      <td>2</td>\n    </tr>\n    <tr>\n      <th>Portugal</th>\n      <td>4</td>\n      <td>4</td>\n      <td>4</td>\n      <td>4</td>\n      <td>4</td>\n      <td>4</td>\n    </tr>\n    <tr>\n      <th>Spain</th>\n      <td>3</td>\n      <td>3</td>\n      <td>3</td>\n      <td>3</td>\n      <td>3</td>\n      <td>3</td>\n    </tr>\n    <tr>\n      <th>Sweden</th>\n      <td>1</td>\n      <td>1</td>\n      <td>1</td>\n      <td>1</td>\n      <td>1</td>\n      <td>1</td>\n    </tr>\n    <tr>\n      <th>Uruguay</th>\n      <td>2</td>\n      <td>2</td>\n      <td>2</td>\n      <td>2</td>\n      <td>2</td>\n      <td>2</td>\n    </tr>\n  </tbody>\n</table>\n</div>"
     },
     "execution_count": 48,
     "metadata": {},
     "output_type": "execute_result"
    }
   ],
   "source": [
    "g.count()"
   ],
   "metadata": {
    "collapsed": false,
    "ExecuteTime": {
     "end_time": "2024-03-13T11:20:39.009132Z",
     "start_time": "2024-03-13T11:20:38.997449Z"
    }
   },
   "id": "75a1c27a55389de8",
   "execution_count": 48
  },
  {
   "cell_type": "code",
   "outputs": [
    {
     "data": {
      "text/plain": "             number                                               name  \\\nnation                                                                   \nArgentina        54       Lautaro MartínezJulián ÁlvarezEnzo Fernández   \nBrazil          154  Vinicius JuniorRodrygoGabriel MartinelliBruno ...   \nCanada           42                                    Alphonso Davies   \nColombia         34                                          Luis Díaz   \nCroatia          28                                     Josko Gvardiol   \nEcuador          16                                     Moisés Caicedo   \nEngland         226  Jude BellinghamBukayo SakaPhil FodenDeclan Ric...   \nFrance          152  Kylian MbappéEduardo CamavingaAurélien Tchouam...   \nGeorgia          27                              Khvicha Kvaratskhelia   \nGermany          89  Jamal MusialaFlorian WirtzLeroy SanéJoshua Kim...   \nHungary          35                                 Dominik Szoboszlai   \nItaly            37                                     Nicolò Barella   \nNetherlands      68                         Frenkie de JongXavi Simons   \nNigeria           9                                     Victor Osimhen   \nNorway           25                      Erling HaalandMartin Ødegaard   \nPortugal        132  Rafael LeãoRúben DiasBernardo SilvaBruno Ferna...   \nSpain            46                                     RodriPedriGavi   \nSweden           45                                     Alexander Isak   \nUruguay          56                     Federico ValverdeRonald Araujo   \n\n                                                      position  age  \\\nnation                                                                \nArgentina         Centre-ForwardSecond StrikerCentral Midfield   73   \nBrazil       Left WingerRight WingerLeft WingerDefensive Mi...  146   \nCanada                                               Left-Back   23   \nColombia                                           Left Winger   27   \nCroatia                                            Centre-Back   22   \nEcuador                                     Defensive Midfield   22   \nEngland      Attacking MidfieldRight WingerRight WingerDefe...  226   \nFrance       Centre-ForwardCentral MidfieldDefensive Midfie...  143   \nGeorgia                                            Left Winger   23   \nGermany      Attacking MidfieldAttacking MidfieldRight Wing...   98   \nHungary                                       Central Midfield   23   \nItaly                                         Central Midfield   27   \nNetherlands                 Central MidfieldAttacking Midfield   46   \nNigeria                                         Centre-Forward   25   \nNorway                        Centre-ForwardAttacking Midfield   48   \nPortugal     Left WingerCentre-BackAttacking MidfieldAttack...  108   \nSpain        Defensive MidfieldCentral MidfieldCentral Midf...   67   \nSweden                                          Centre-Forward   24   \nUruguay                            Central MidfieldCentre-Back   50   \n\n                                                          club  시장가치(억)  \nnation                                                                   \nArgentina                 Inter MilanManchester CityChelsea FC   3640.0  \nBrazil       Real MadridReal MadridArsenal FCNewcastle Unit...   7280.0  \nCanada                                           Bayern Munich    910.0  \nColombia                                          Liverpool FC    975.0  \nCroatia                                        Manchester City   1040.0  \nEcuador                                             Chelsea FC   1170.0  \nEngland      Real MadridArsenal FCManchester CityArsenal FC...  11830.0  \nFrance       Paris Saint-GermainReal MadridReal MadridArsen...   7540.0  \nGeorgia                                             SSC Napoli   1040.0  \nGermany      Bayern MunichBayer 04 LeverkusenBayern MunichB...   4745.0  \nHungary                                           Liverpool FC    975.0  \nItaly                                              Inter Milan    975.0  \nNetherlands                             FC BarcelonaRB Leipzig   1950.0  \nNigeria                                             SSC Napoli   1430.0  \nNorway                               Manchester CityArsenal FC   3510.0  \nPortugal     AC MilanManchester CityManchester CityManchest...   4160.0  \nSpain                  Manchester CityFC BarcelonaFC Barcelona   3770.0  \nSweden                                        Newcastle United    910.0  \nUruguay                                Real MadridFC Barcelona   2210.0  ",
      "text/html": "<div>\n<style scoped>\n    .dataframe tbody tr th:only-of-type {\n        vertical-align: middle;\n    }\n\n    .dataframe tbody tr th {\n        vertical-align: top;\n    }\n\n    .dataframe thead th {\n        text-align: right;\n    }\n</style>\n<table border=\"1\" class=\"dataframe\">\n  <thead>\n    <tr style=\"text-align: right;\">\n      <th></th>\n      <th>number</th>\n      <th>name</th>\n      <th>position</th>\n      <th>age</th>\n      <th>club</th>\n      <th>시장가치(억)</th>\n    </tr>\n    <tr>\n      <th>nation</th>\n      <th></th>\n      <th></th>\n      <th></th>\n      <th></th>\n      <th></th>\n      <th></th>\n    </tr>\n  </thead>\n  <tbody>\n    <tr>\n      <th>Argentina</th>\n      <td>54</td>\n      <td>Lautaro MartínezJulián ÁlvarezEnzo Fernández</td>\n      <td>Centre-ForwardSecond StrikerCentral Midfield</td>\n      <td>73</td>\n      <td>Inter MilanManchester CityChelsea FC</td>\n      <td>3640.0</td>\n    </tr>\n    <tr>\n      <th>Brazil</th>\n      <td>154</td>\n      <td>Vinicius JuniorRodrygoGabriel MartinelliBruno ...</td>\n      <td>Left WingerRight WingerLeft WingerDefensive Mi...</td>\n      <td>146</td>\n      <td>Real MadridReal MadridArsenal FCNewcastle Unit...</td>\n      <td>7280.0</td>\n    </tr>\n    <tr>\n      <th>Canada</th>\n      <td>42</td>\n      <td>Alphonso Davies</td>\n      <td>Left-Back</td>\n      <td>23</td>\n      <td>Bayern Munich</td>\n      <td>910.0</td>\n    </tr>\n    <tr>\n      <th>Colombia</th>\n      <td>34</td>\n      <td>Luis Díaz</td>\n      <td>Left Winger</td>\n      <td>27</td>\n      <td>Liverpool FC</td>\n      <td>975.0</td>\n    </tr>\n    <tr>\n      <th>Croatia</th>\n      <td>28</td>\n      <td>Josko Gvardiol</td>\n      <td>Centre-Back</td>\n      <td>22</td>\n      <td>Manchester City</td>\n      <td>1040.0</td>\n    </tr>\n    <tr>\n      <th>Ecuador</th>\n      <td>16</td>\n      <td>Moisés Caicedo</td>\n      <td>Defensive Midfield</td>\n      <td>22</td>\n      <td>Chelsea FC</td>\n      <td>1170.0</td>\n    </tr>\n    <tr>\n      <th>England</th>\n      <td>226</td>\n      <td>Jude BellinghamBukayo SakaPhil FodenDeclan Ric...</td>\n      <td>Attacking MidfieldRight WingerRight WingerDefe...</td>\n      <td>226</td>\n      <td>Real MadridArsenal FCManchester CityArsenal FC...</td>\n      <td>11830.0</td>\n    </tr>\n    <tr>\n      <th>France</th>\n      <td>152</td>\n      <td>Kylian MbappéEduardo CamavingaAurélien Tchouam...</td>\n      <td>Centre-ForwardCentral MidfieldDefensive Midfie...</td>\n      <td>143</td>\n      <td>Paris Saint-GermainReal MadridReal MadridArsen...</td>\n      <td>7540.0</td>\n    </tr>\n    <tr>\n      <th>Georgia</th>\n      <td>27</td>\n      <td>Khvicha Kvaratskhelia</td>\n      <td>Left Winger</td>\n      <td>23</td>\n      <td>SSC Napoli</td>\n      <td>1040.0</td>\n    </tr>\n    <tr>\n      <th>Germany</th>\n      <td>89</td>\n      <td>Jamal MusialaFlorian WirtzLeroy SanéJoshua Kim...</td>\n      <td>Attacking MidfieldAttacking MidfieldRight Wing...</td>\n      <td>98</td>\n      <td>Bayern MunichBayer 04 LeverkusenBayern MunichB...</td>\n      <td>4745.0</td>\n    </tr>\n    <tr>\n      <th>Hungary</th>\n      <td>35</td>\n      <td>Dominik Szoboszlai</td>\n      <td>Central Midfield</td>\n      <td>23</td>\n      <td>Liverpool FC</td>\n      <td>975.0</td>\n    </tr>\n    <tr>\n      <th>Italy</th>\n      <td>37</td>\n      <td>Nicolò Barella</td>\n      <td>Central Midfield</td>\n      <td>27</td>\n      <td>Inter Milan</td>\n      <td>975.0</td>\n    </tr>\n    <tr>\n      <th>Netherlands</th>\n      <td>68</td>\n      <td>Frenkie de JongXavi Simons</td>\n      <td>Central MidfieldAttacking Midfield</td>\n      <td>46</td>\n      <td>FC BarcelonaRB Leipzig</td>\n      <td>1950.0</td>\n    </tr>\n    <tr>\n      <th>Nigeria</th>\n      <td>9</td>\n      <td>Victor Osimhen</td>\n      <td>Centre-Forward</td>\n      <td>25</td>\n      <td>SSC Napoli</td>\n      <td>1430.0</td>\n    </tr>\n    <tr>\n      <th>Norway</th>\n      <td>25</td>\n      <td>Erling HaalandMartin Ødegaard</td>\n      <td>Centre-ForwardAttacking Midfield</td>\n      <td>48</td>\n      <td>Manchester CityArsenal FC</td>\n      <td>3510.0</td>\n    </tr>\n    <tr>\n      <th>Portugal</th>\n      <td>132</td>\n      <td>Rafael LeãoRúben DiasBernardo SilvaBruno Ferna...</td>\n      <td>Left WingerCentre-BackAttacking MidfieldAttack...</td>\n      <td>108</td>\n      <td>AC MilanManchester CityManchester CityManchest...</td>\n      <td>4160.0</td>\n    </tr>\n    <tr>\n      <th>Spain</th>\n      <td>46</td>\n      <td>RodriPedriGavi</td>\n      <td>Defensive MidfieldCentral MidfieldCentral Midf...</td>\n      <td>67</td>\n      <td>Manchester CityFC BarcelonaFC Barcelona</td>\n      <td>3770.0</td>\n    </tr>\n    <tr>\n      <th>Sweden</th>\n      <td>45</td>\n      <td>Alexander Isak</td>\n      <td>Centre-Forward</td>\n      <td>24</td>\n      <td>Newcastle United</td>\n      <td>910.0</td>\n    </tr>\n    <tr>\n      <th>Uruguay</th>\n      <td>56</td>\n      <td>Federico ValverdeRonald Araujo</td>\n      <td>Central MidfieldCentre-Back</td>\n      <td>50</td>\n      <td>Real MadridFC Barcelona</td>\n      <td>2210.0</td>\n    </tr>\n  </tbody>\n</table>\n</div>"
     },
     "execution_count": 49,
     "metadata": {},
     "output_type": "execute_result"
    }
   ],
   "source": [
    "g.sum()"
   ],
   "metadata": {
    "collapsed": false,
    "ExecuteTime": {
     "end_time": "2024-03-13T11:20:47.230141Z",
     "start_time": "2024-03-13T11:20:47.217740Z"
    }
   },
   "id": "d406235527731967",
   "execution_count": 49
  },
  {
   "cell_type": "code",
   "outputs": [
    {
     "data": {
      "text/plain": "nation\nArgentina       3640.0\nBrazil          7280.0\nCanada           910.0\nColombia         975.0\nCroatia         1040.0\nEcuador         1170.0\nEngland        11830.0\nFrance          7540.0\nGeorgia         1040.0\nGermany         4745.0\nHungary          975.0\nItaly            975.0\nNetherlands     1950.0\nNigeria         1430.0\nNorway          3510.0\nPortugal        4160.0\nSpain           3770.0\nSweden           910.0\nUruguay         2210.0\nName: 시장가치(억), dtype: float64"
     },
     "execution_count": 50,
     "metadata": {},
     "output_type": "execute_result"
    }
   ],
   "source": [
    "g['시장가치(억)'].sum()"
   ],
   "metadata": {
    "collapsed": false,
    "ExecuteTime": {
     "end_time": "2024-03-13T11:21:51.612316Z",
     "start_time": "2024-03-13T11:21:51.605504Z"
    }
   },
   "id": "8c035b85c69744c5",
   "execution_count": 50
  },
  {
   "cell_type": "code",
   "outputs": [
    {
     "data": {
      "text/plain": "club\nManchester City        10400.0\nReal Madrid            10140.0\nArsenal FC              7150.0\nBayern Munich           5785.0\nFC Barcelona            4290.0\nParis Saint-Germain     3250.0\nChelsea FC              3185.0\nLiverpool FC            2860.0\nSSC Napoli              2470.0\nInter Milan             2405.0\nNewcastle United        2015.0\nManchester United       1820.0\nBayer 04 Leverkusen     1300.0\nAC Milan                1170.0\nRB Leipzig               910.0\nTottenham Hotspur        910.0\nName: 시장가치(억), dtype: float64"
     },
     "execution_count": 53,
     "metadata": {},
     "output_type": "execute_result"
    }
   ],
   "source": [
    "cl=df.groupby('club')\n",
    "cl.sum()\n",
    "cl['시장가치(억)'].sum().sort_values(ascending=False)\n"
   ],
   "metadata": {
    "collapsed": false,
    "ExecuteTime": {
     "end_time": "2024-03-13T11:23:24.749986Z",
     "start_time": "2024-03-13T11:23:24.742987Z"
    }
   },
   "id": "7fcaa6d974e42dbc",
   "execution_count": 53
  },
  {
   "cell_type": "code",
   "outputs": [],
   "source": [],
   "metadata": {
    "collapsed": false
   },
   "id": "17285f586bf4a3af"
  }
 ],
 "metadata": {
  "kernelspec": {
   "display_name": "Python 3",
   "language": "python",
   "name": "python3"
  },
  "language_info": {
   "codemirror_mode": {
    "name": "ipython",
    "version": 2
   },
   "file_extension": ".py",
   "mimetype": "text/x-python",
   "name": "python",
   "nbconvert_exporter": "python",
   "pygments_lexer": "ipython2",
   "version": "2.7.6"
  }
 },
 "nbformat": 4,
 "nbformat_minor": 5
}
